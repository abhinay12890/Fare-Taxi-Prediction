{
 "cells": [
  {
   "cell_type": "markdown",
   "metadata": {},
   "source": [
    "# NY Taxi Fare Prediction"
   ]
  },
  {
   "cell_type": "code",
   "execution_count": 186,
   "metadata": {},
   "outputs": [],
   "source": [
    "import numpy as np\n",
    "import pandas as pd\n",
    "import seaborn as sns\n",
    "import matplotlib.pyplot as plt \n",
    "from sklearn import linear_model\n",
    "from sklearn.metrics import mean_squared_error,r2_score,mean_absolute_percentage_error\n",
    "from sklearn import metrics\n",
    "\n"
   ]
  },
  {
   "cell_type": "code",
   "execution_count": 187,
   "metadata": {},
   "outputs": [],
   "source": [
    "train = pd.read_csv(\"E:/Study & Work/5th Sem Books/CS550- Machine Learning/Assignments/1/train_ny.csv\", nrows = 1000000)\n",
    "test = pd.read_csv(\"E:/Study & Work/5th Sem Books/CS550- Machine Learning/Assignments/1/test_ny.csv\")"
   ]
  },
  {
   "cell_type": "markdown",
   "metadata": {},
   "source": [
    "PART 1 --> DATA CLEANSING \n",
    "\n",
    "Will perform the following activities\n",
    "1.   Shape of train and test sets\n",
    "2.   Check for NaNs and drop them (if any)\n",
    "3.   Check for outliers and drop them (if any)\n",
    "4.   Type conversion of relevant fields\n",
    "\n",
    "\n",
    "\n"
   ]
  },
  {
   "cell_type": "code",
   "execution_count": 188,
   "metadata": {},
   "outputs": [
    {
     "data": {
      "text/html": [
       "<div>\n",
       "<style scoped>\n",
       "    .dataframe tbody tr th:only-of-type {\n",
       "        vertical-align: middle;\n",
       "    }\n",
       "\n",
       "    .dataframe tbody tr th {\n",
       "        vertical-align: top;\n",
       "    }\n",
       "\n",
       "    .dataframe thead th {\n",
       "        text-align: right;\n",
       "    }\n",
       "</style>\n",
       "<table border=\"1\" class=\"dataframe\">\n",
       "  <thead>\n",
       "    <tr style=\"text-align: right;\">\n",
       "      <th></th>\n",
       "      <th>Unnamed: 0</th>\n",
       "      <th>key</th>\n",
       "      <th>fare_amount</th>\n",
       "      <th>pickup_datetime</th>\n",
       "      <th>pickup_longitude</th>\n",
       "      <th>pickup_latitude</th>\n",
       "      <th>dropoff_longitude</th>\n",
       "      <th>dropoff_latitude</th>\n",
       "      <th>passenger_count</th>\n",
       "    </tr>\n",
       "  </thead>\n",
       "  <tbody>\n",
       "    <tr>\n",
       "      <th>0</th>\n",
       "      <td>0</td>\n",
       "      <td>2009-04-08 19:11:10.0000004</td>\n",
       "      <td>4.9</td>\n",
       "      <td>2009-04-08 19:11:10 UTC</td>\n",
       "      <td>-73.998287</td>\n",
       "      <td>40.727490</td>\n",
       "      <td>-73.989854</td>\n",
       "      <td>40.735239</td>\n",
       "      <td>2</td>\n",
       "    </tr>\n",
       "    <tr>\n",
       "      <th>1</th>\n",
       "      <td>1</td>\n",
       "      <td>2012-07-30 16:19:08.0000003</td>\n",
       "      <td>4.9</td>\n",
       "      <td>2012-07-30 16:19:08 UTC</td>\n",
       "      <td>-73.966597</td>\n",
       "      <td>40.794345</td>\n",
       "      <td>-73.965682</td>\n",
       "      <td>40.803808</td>\n",
       "      <td>2</td>\n",
       "    </tr>\n",
       "    <tr>\n",
       "      <th>2</th>\n",
       "      <td>2</td>\n",
       "      <td>2011-02-22 13:35:00.000000121</td>\n",
       "      <td>6.9</td>\n",
       "      <td>2011-02-22 13:35:00 UTC</td>\n",
       "      <td>-73.971638</td>\n",
       "      <td>40.763382</td>\n",
       "      <td>-73.953767</td>\n",
       "      <td>40.783715</td>\n",
       "      <td>1</td>\n",
       "    </tr>\n",
       "    <tr>\n",
       "      <th>3</th>\n",
       "      <td>3</td>\n",
       "      <td>2010-10-07 21:09:35.0000002</td>\n",
       "      <td>14.1</td>\n",
       "      <td>2010-10-07 21:09:35 UTC</td>\n",
       "      <td>-74.003545</td>\n",
       "      <td>40.707399</td>\n",
       "      <td>-73.981312</td>\n",
       "      <td>40.750071</td>\n",
       "      <td>1</td>\n",
       "    </tr>\n",
       "    <tr>\n",
       "      <th>4</th>\n",
       "      <td>4</td>\n",
       "      <td>2009-10-02 22:51:00.000000140</td>\n",
       "      <td>12.1</td>\n",
       "      <td>2009-10-02 22:51:00 UTC</td>\n",
       "      <td>-74.004532</td>\n",
       "      <td>40.707465</td>\n",
       "      <td>-73.977908</td>\n",
       "      <td>40.745633</td>\n",
       "      <td>5</td>\n",
       "    </tr>\n",
       "  </tbody>\n",
       "</table>\n",
       "</div>"
      ],
      "text/plain": [
       "   Unnamed: 0                            key  fare_amount  \\\n",
       "0           0    2009-04-08 19:11:10.0000004          4.9   \n",
       "1           1    2012-07-30 16:19:08.0000003          4.9   \n",
       "2           2  2011-02-22 13:35:00.000000121          6.9   \n",
       "3           3    2010-10-07 21:09:35.0000002         14.1   \n",
       "4           4  2009-10-02 22:51:00.000000140         12.1   \n",
       "\n",
       "           pickup_datetime  pickup_longitude  pickup_latitude  \\\n",
       "0  2009-04-08 19:11:10 UTC        -73.998287        40.727490   \n",
       "1  2012-07-30 16:19:08 UTC        -73.966597        40.794345   \n",
       "2  2011-02-22 13:35:00 UTC        -73.971638        40.763382   \n",
       "3  2010-10-07 21:09:35 UTC        -74.003545        40.707399   \n",
       "4  2009-10-02 22:51:00 UTC        -74.004532        40.707465   \n",
       "\n",
       "   dropoff_longitude  dropoff_latitude  passenger_count  \n",
       "0         -73.989854         40.735239                2  \n",
       "1         -73.965682         40.803808                2  \n",
       "2         -73.953767         40.783715                1  \n",
       "3         -73.981312         40.750071                1  \n",
       "4         -73.977908         40.745633                5  "
      ]
     },
     "execution_count": 188,
     "metadata": {},
     "output_type": "execute_result"
    }
   ],
   "source": [
    "train.head()"
   ]
  },
  {
   "cell_type": "code",
   "execution_count": 189,
   "metadata": {},
   "outputs": [
    {
     "name": "stdout",
     "output_type": "stream",
     "text": [
      "Shape of the Training data : (100000, 9)\n",
      "All columns are : ['Unnamed: 0', 'key', 'fare_amount', 'pickup_datetime', 'pickup_longitude', 'pickup_latitude', 'dropoff_longitude', 'dropoff_latitude', 'passenger_count']\n"
     ]
    }
   ],
   "source": [
    "# Check no of rows & columns in the dataset\n",
    "print(\"Shape of the Training data :\", train.shape)\n",
    "\n",
    "# See all the columns in the dataset\n",
    "print(\"All columns are :\", list(train.columns))"
   ]
  },
  {
   "cell_type": "code",
   "execution_count": 190,
   "metadata": {},
   "outputs": [
    {
     "name": "stdout",
     "output_type": "stream",
     "text": [
      "<class 'pandas.core.frame.DataFrame'>\n",
      "RangeIndex: 100000 entries, 0 to 99999\n",
      "Data columns (total 9 columns):\n",
      " #   Column             Non-Null Count   Dtype  \n",
      "---  ------             --------------   -----  \n",
      " 0   Unnamed: 0         100000 non-null  int64  \n",
      " 1   key                100000 non-null  object \n",
      " 2   fare_amount        100000 non-null  float64\n",
      " 3   pickup_datetime    100000 non-null  object \n",
      " 4   pickup_longitude   100000 non-null  float64\n",
      " 5   pickup_latitude    100000 non-null  float64\n",
      " 6   dropoff_longitude  100000 non-null  float64\n",
      " 7   dropoff_latitude   100000 non-null  float64\n",
      " 8   passenger_count    100000 non-null  int64  \n",
      "dtypes: float64(5), int64(2), object(2)\n",
      "memory usage: 6.9+ MB\n"
     ]
    }
   ],
   "source": [
    "# Check datatypes & count of not-null values in each field\n",
    "train.info()"
   ]
  },
  {
   "cell_type": "code",
   "execution_count": 191,
   "metadata": {},
   "outputs": [
    {
     "data": {
      "text/plain": [
       "Unnamed: 0           0\n",
       "key                  0\n",
       "fare_amount          0\n",
       "pickup_datetime      0\n",
       "pickup_longitude     0\n",
       "pickup_latitude      0\n",
       "dropoff_longitude    0\n",
       "dropoff_latitude     0\n",
       "passenger_count      0\n",
       "dtype: int64"
      ]
     },
     "execution_count": 191,
     "metadata": {},
     "output_type": "execute_result"
    }
   ],
   "source": [
    "#check for missing values in train data\n",
    "train.isna().sum()"
   ]
  },
  {
   "cell_type": "code",
   "execution_count": 192,
   "metadata": {},
   "outputs": [
    {
     "data": {
      "text/plain": [
       "key                  0\n",
       "pickup_datetime      0\n",
       "pickup_longitude     0\n",
       "pickup_latitude      0\n",
       "dropoff_longitude    0\n",
       "dropoff_latitude     0\n",
       "passenger_count      0\n",
       "dtype: int64"
      ]
     },
     "execution_count": 192,
     "metadata": {},
     "output_type": "execute_result"
    }
   ],
   "source": [
    "#check for missing values in test data\n",
    "test.isna().sum()"
   ]
  },
  {
   "cell_type": "markdown",
   "metadata": {},
   "source": [
    "No missing Values were found !!"
   ]
  },
  {
   "cell_type": "code",
   "execution_count": 193,
   "metadata": {},
   "outputs": [
    {
     "data": {
      "text/html": [
       "<div>\n",
       "<style scoped>\n",
       "    .dataframe tbody tr th:only-of-type {\n",
       "        vertical-align: middle;\n",
       "    }\n",
       "\n",
       "    .dataframe tbody tr th {\n",
       "        vertical-align: top;\n",
       "    }\n",
       "\n",
       "    .dataframe thead th {\n",
       "        text-align: right;\n",
       "    }\n",
       "</style>\n",
       "<table border=\"1\" class=\"dataframe\">\n",
       "  <thead>\n",
       "    <tr style=\"text-align: right;\">\n",
       "      <th></th>\n",
       "      <th>Unnamed: 0</th>\n",
       "      <th>key</th>\n",
       "      <th>fare_amount</th>\n",
       "      <th>pickup_datetime</th>\n",
       "      <th>pickup_longitude</th>\n",
       "      <th>pickup_latitude</th>\n",
       "      <th>dropoff_longitude</th>\n",
       "      <th>dropoff_latitude</th>\n",
       "      <th>passenger_count</th>\n",
       "    </tr>\n",
       "  </thead>\n",
       "  <tbody>\n",
       "    <tr>\n",
       "      <th>0</th>\n",
       "      <td>0</td>\n",
       "      <td>2009-04-08 19:11:10.0000004</td>\n",
       "      <td>4.9</td>\n",
       "      <td>2009-04-08 19:11:10 UTC</td>\n",
       "      <td>-73.998287</td>\n",
       "      <td>40.727490</td>\n",
       "      <td>-73.989854</td>\n",
       "      <td>40.735239</td>\n",
       "      <td>2</td>\n",
       "    </tr>\n",
       "    <tr>\n",
       "      <th>1</th>\n",
       "      <td>1</td>\n",
       "      <td>2012-07-30 16:19:08.0000003</td>\n",
       "      <td>4.9</td>\n",
       "      <td>2012-07-30 16:19:08 UTC</td>\n",
       "      <td>-73.966597</td>\n",
       "      <td>40.794345</td>\n",
       "      <td>-73.965682</td>\n",
       "      <td>40.803808</td>\n",
       "      <td>2</td>\n",
       "    </tr>\n",
       "    <tr>\n",
       "      <th>2</th>\n",
       "      <td>2</td>\n",
       "      <td>2011-02-22 13:35:00.000000121</td>\n",
       "      <td>6.9</td>\n",
       "      <td>2011-02-22 13:35:00 UTC</td>\n",
       "      <td>-73.971638</td>\n",
       "      <td>40.763382</td>\n",
       "      <td>-73.953767</td>\n",
       "      <td>40.783715</td>\n",
       "      <td>1</td>\n",
       "    </tr>\n",
       "    <tr>\n",
       "      <th>3</th>\n",
       "      <td>3</td>\n",
       "      <td>2010-10-07 21:09:35.0000002</td>\n",
       "      <td>14.1</td>\n",
       "      <td>2010-10-07 21:09:35 UTC</td>\n",
       "      <td>-74.003545</td>\n",
       "      <td>40.707399</td>\n",
       "      <td>-73.981312</td>\n",
       "      <td>40.750071</td>\n",
       "      <td>1</td>\n",
       "    </tr>\n",
       "    <tr>\n",
       "      <th>4</th>\n",
       "      <td>4</td>\n",
       "      <td>2009-10-02 22:51:00.000000140</td>\n",
       "      <td>12.1</td>\n",
       "      <td>2009-10-02 22:51:00 UTC</td>\n",
       "      <td>-74.004532</td>\n",
       "      <td>40.707465</td>\n",
       "      <td>-73.977908</td>\n",
       "      <td>40.745633</td>\n",
       "      <td>5</td>\n",
       "    </tr>\n",
       "    <tr>\n",
       "      <th>...</th>\n",
       "      <td>...</td>\n",
       "      <td>...</td>\n",
       "      <td>...</td>\n",
       "      <td>...</td>\n",
       "      <td>...</td>\n",
       "      <td>...</td>\n",
       "      <td>...</td>\n",
       "      <td>...</td>\n",
       "      <td>...</td>\n",
       "    </tr>\n",
       "    <tr>\n",
       "      <th>99995</th>\n",
       "      <td>99995</td>\n",
       "      <td>2015-06-08 07:05:28.0000003</td>\n",
       "      <td>4.5</td>\n",
       "      <td>2015-06-08 07:05:28 UTC</td>\n",
       "      <td>-73.965111</td>\n",
       "      <td>40.772343</td>\n",
       "      <td>-73.952072</td>\n",
       "      <td>40.768021</td>\n",
       "      <td>1</td>\n",
       "    </tr>\n",
       "    <tr>\n",
       "      <th>99996</th>\n",
       "      <td>99996</td>\n",
       "      <td>2012-09-17 15:09:00.000000161</td>\n",
       "      <td>25.5</td>\n",
       "      <td>2012-09-17 15:09:00 UTC</td>\n",
       "      <td>-73.786162</td>\n",
       "      <td>40.640710</td>\n",
       "      <td>-73.878865</td>\n",
       "      <td>40.658735</td>\n",
       "      <td>1</td>\n",
       "    </tr>\n",
       "    <tr>\n",
       "      <th>99997</th>\n",
       "      <td>99997</td>\n",
       "      <td>2013-02-02 19:02:00.00000047</td>\n",
       "      <td>14.5</td>\n",
       "      <td>2013-02-02 19:02:00 UTC</td>\n",
       "      <td>-73.982023</td>\n",
       "      <td>40.758052</td>\n",
       "      <td>-73.993930</td>\n",
       "      <td>40.734462</td>\n",
       "      <td>1</td>\n",
       "    </tr>\n",
       "    <tr>\n",
       "      <th>99998</th>\n",
       "      <td>99998</td>\n",
       "      <td>2013-12-28 15:44:17.0000004</td>\n",
       "      <td>9.0</td>\n",
       "      <td>2013-12-28 15:44:17 UTC</td>\n",
       "      <td>-73.956423</td>\n",
       "      <td>40.778140</td>\n",
       "      <td>-73.981008</td>\n",
       "      <td>40.779568</td>\n",
       "      <td>1</td>\n",
       "    </tr>\n",
       "    <tr>\n",
       "      <th>99999</th>\n",
       "      <td>99999</td>\n",
       "      <td>2014-04-26 19:30:00.000000186</td>\n",
       "      <td>15.0</td>\n",
       "      <td>2014-04-26 19:30:00 UTC</td>\n",
       "      <td>-73.989565</td>\n",
       "      <td>40.758757</td>\n",
       "      <td>-73.989992</td>\n",
       "      <td>40.733387</td>\n",
       "      <td>1</td>\n",
       "    </tr>\n",
       "  </tbody>\n",
       "</table>\n",
       "<p>100000 rows × 9 columns</p>\n",
       "</div>"
      ],
      "text/plain": [
       "       Unnamed: 0                            key  fare_amount  \\\n",
       "0               0    2009-04-08 19:11:10.0000004          4.9   \n",
       "1               1    2012-07-30 16:19:08.0000003          4.9   \n",
       "2               2  2011-02-22 13:35:00.000000121          6.9   \n",
       "3               3    2010-10-07 21:09:35.0000002         14.1   \n",
       "4               4  2009-10-02 22:51:00.000000140         12.1   \n",
       "...           ...                            ...          ...   \n",
       "99995       99995    2015-06-08 07:05:28.0000003          4.5   \n",
       "99996       99996  2012-09-17 15:09:00.000000161         25.5   \n",
       "99997       99997   2013-02-02 19:02:00.00000047         14.5   \n",
       "99998       99998    2013-12-28 15:44:17.0000004          9.0   \n",
       "99999       99999  2014-04-26 19:30:00.000000186         15.0   \n",
       "\n",
       "               pickup_datetime  pickup_longitude  pickup_latitude  \\\n",
       "0      2009-04-08 19:11:10 UTC        -73.998287        40.727490   \n",
       "1      2012-07-30 16:19:08 UTC        -73.966597        40.794345   \n",
       "2      2011-02-22 13:35:00 UTC        -73.971638        40.763382   \n",
       "3      2010-10-07 21:09:35 UTC        -74.003545        40.707399   \n",
       "4      2009-10-02 22:51:00 UTC        -74.004532        40.707465   \n",
       "...                        ...               ...              ...   \n",
       "99995  2015-06-08 07:05:28 UTC        -73.965111        40.772343   \n",
       "99996  2012-09-17 15:09:00 UTC        -73.786162        40.640710   \n",
       "99997  2013-02-02 19:02:00 UTC        -73.982023        40.758052   \n",
       "99998  2013-12-28 15:44:17 UTC        -73.956423        40.778140   \n",
       "99999  2014-04-26 19:30:00 UTC        -73.989565        40.758757   \n",
       "\n",
       "       dropoff_longitude  dropoff_latitude  passenger_count  \n",
       "0             -73.989854         40.735239                2  \n",
       "1             -73.965682         40.803808                2  \n",
       "2             -73.953767         40.783715                1  \n",
       "3             -73.981312         40.750071                1  \n",
       "4             -73.977908         40.745633                5  \n",
       "...                  ...               ...              ...  \n",
       "99995         -73.952072         40.768021                1  \n",
       "99996         -73.878865         40.658735                1  \n",
       "99997         -73.993930         40.734462                1  \n",
       "99998         -73.981008         40.779568                1  \n",
       "99999         -73.989992         40.733387                1  \n",
       "\n",
       "[100000 rows x 9 columns]"
      ]
     },
     "execution_count": 193,
     "metadata": {},
     "output_type": "execute_result"
    }
   ],
   "source": [
    "train"
   ]
  },
  {
   "cell_type": "code",
   "execution_count": 194,
   "metadata": {},
   "outputs": [
    {
     "data": {
      "text/plain": [
       "(100000, 9)"
      ]
     },
     "execution_count": 194,
     "metadata": {},
     "output_type": "execute_result"
    }
   ],
   "source": [
    "train.shape"
   ]
  },
  {
   "cell_type": "code",
   "execution_count": 195,
   "metadata": {},
   "outputs": [
    {
     "data": {
      "text/plain": [
       "0         4.9\n",
       "1         4.9\n",
       "2         6.9\n",
       "3        14.1\n",
       "4        12.1\n",
       "         ... \n",
       "99995     4.5\n",
       "99996    25.5\n",
       "99997    14.5\n",
       "99998     9.0\n",
       "99999    15.0\n",
       "Name: fare_amount, Length: 100000, dtype: float64"
      ]
     },
     "execution_count": 195,
     "metadata": {},
     "output_type": "execute_result"
    }
   ],
   "source": [
    "#check the target column\n",
    "train['fare_amount']"
   ]
  },
  {
   "cell_type": "code",
   "execution_count": 196,
   "metadata": {},
   "outputs": [
    {
     "data": {
      "text/html": [
       "<div>\n",
       "<style scoped>\n",
       "    .dataframe tbody tr th:only-of-type {\n",
       "        vertical-align: middle;\n",
       "    }\n",
       "\n",
       "    .dataframe tbody tr th {\n",
       "        vertical-align: top;\n",
       "    }\n",
       "\n",
       "    .dataframe thead th {\n",
       "        text-align: right;\n",
       "    }\n",
       "</style>\n",
       "<table border=\"1\" class=\"dataframe\">\n",
       "  <thead>\n",
       "    <tr style=\"text-align: right;\">\n",
       "      <th></th>\n",
       "      <th>Unnamed: 0</th>\n",
       "      <th>key</th>\n",
       "      <th>fare_amount</th>\n",
       "      <th>pickup_datetime</th>\n",
       "      <th>pickup_longitude</th>\n",
       "      <th>pickup_latitude</th>\n",
       "      <th>dropoff_longitude</th>\n",
       "      <th>dropoff_latitude</th>\n",
       "      <th>passenger_count</th>\n",
       "    </tr>\n",
       "  </thead>\n",
       "  <tbody>\n",
       "    <tr>\n",
       "      <th>38446</th>\n",
       "      <td>38446</td>\n",
       "      <td>2010-03-13 15:29:10.0000003</td>\n",
       "      <td>-9.3</td>\n",
       "      <td>2010-03-13 15:29:10 UTC</td>\n",
       "      <td>-73.977015</td>\n",
       "      <td>40.779925</td>\n",
       "      <td>-73.949747</td>\n",
       "      <td>40.790322</td>\n",
       "      <td>3</td>\n",
       "    </tr>\n",
       "    <tr>\n",
       "      <th>38582</th>\n",
       "      <td>38582</td>\n",
       "      <td>2010-02-27 02:37:10.0000004</td>\n",
       "      <td>-6.9</td>\n",
       "      <td>2010-02-27 02:37:10 UTC</td>\n",
       "      <td>-73.987800</td>\n",
       "      <td>40.747842</td>\n",
       "      <td>-73.981702</td>\n",
       "      <td>40.763600</td>\n",
       "      <td>1</td>\n",
       "    </tr>\n",
       "    <tr>\n",
       "      <th>44049</th>\n",
       "      <td>44049</td>\n",
       "      <td>2015-01-25 18:00:06.0000005</td>\n",
       "      <td>0.0</td>\n",
       "      <td>2015-01-25 18:00:06 UTC</td>\n",
       "      <td>-73.801102</td>\n",
       "      <td>40.670094</td>\n",
       "      <td>-73.801086</td>\n",
       "      <td>40.670536</td>\n",
       "      <td>1</td>\n",
       "    </tr>\n",
       "    <tr>\n",
       "      <th>55472</th>\n",
       "      <td>55472</td>\n",
       "      <td>2015-02-23 09:34:48.0000002</td>\n",
       "      <td>0.0</td>\n",
       "      <td>2015-02-23 09:34:48 UTC</td>\n",
       "      <td>-73.982201</td>\n",
       "      <td>40.768417</td>\n",
       "      <td>-73.981392</td>\n",
       "      <td>40.764874</td>\n",
       "      <td>1</td>\n",
       "    </tr>\n",
       "    <tr>\n",
       "      <th>61165</th>\n",
       "      <td>61165</td>\n",
       "      <td>2010-03-24 14:21:10.0000001</td>\n",
       "      <td>-2.5</td>\n",
       "      <td>2010-03-24 14:21:10 UTC</td>\n",
       "      <td>-73.953752</td>\n",
       "      <td>40.813413</td>\n",
       "      <td>-73.953743</td>\n",
       "      <td>40.813407</td>\n",
       "      <td>1</td>\n",
       "    </tr>\n",
       "    <tr>\n",
       "      <th>72873</th>\n",
       "      <td>72873</td>\n",
       "      <td>2015-01-15 07:49:05.0000004</td>\n",
       "      <td>0.0</td>\n",
       "      <td>2015-01-15 07:49:05 UTC</td>\n",
       "      <td>-73.901909</td>\n",
       "      <td>40.763988</td>\n",
       "      <td>-73.901917</td>\n",
       "      <td>40.763969</td>\n",
       "      <td>3</td>\n",
       "    </tr>\n",
       "  </tbody>\n",
       "</table>\n",
       "</div>"
      ],
      "text/plain": [
       "       Unnamed: 0                          key  fare_amount  \\\n",
       "38446       38446  2010-03-13 15:29:10.0000003         -9.3   \n",
       "38582       38582  2010-02-27 02:37:10.0000004         -6.9   \n",
       "44049       44049  2015-01-25 18:00:06.0000005          0.0   \n",
       "55472       55472  2015-02-23 09:34:48.0000002          0.0   \n",
       "61165       61165  2010-03-24 14:21:10.0000001         -2.5   \n",
       "72873       72873  2015-01-15 07:49:05.0000004          0.0   \n",
       "\n",
       "               pickup_datetime  pickup_longitude  pickup_latitude  \\\n",
       "38446  2010-03-13 15:29:10 UTC        -73.977015        40.779925   \n",
       "38582  2010-02-27 02:37:10 UTC        -73.987800        40.747842   \n",
       "44049  2015-01-25 18:00:06 UTC        -73.801102        40.670094   \n",
       "55472  2015-02-23 09:34:48 UTC        -73.982201        40.768417   \n",
       "61165  2010-03-24 14:21:10 UTC        -73.953752        40.813413   \n",
       "72873  2015-01-15 07:49:05 UTC        -73.901909        40.763988   \n",
       "\n",
       "       dropoff_longitude  dropoff_latitude  passenger_count  \n",
       "38446         -73.949747         40.790322                3  \n",
       "38582         -73.981702         40.763600                1  \n",
       "44049         -73.801086         40.670536                1  \n",
       "55472         -73.981392         40.764874                1  \n",
       "61165         -73.953743         40.813407                1  \n",
       "72873         -73.901917         40.763969                3  "
      ]
     },
     "execution_count": 196,
     "metadata": {},
     "output_type": "execute_result"
    }
   ],
   "source": [
    "#Look for no. of non-positive fare_amount values.\n",
    "train[train['fare_amount']<=0]"
   ]
  },
  {
   "cell_type": "code",
   "execution_count": 197,
   "metadata": {},
   "outputs": [
    {
     "data": {
      "text/plain": [
       "(99994, 9)"
      ]
     },
     "execution_count": 197,
     "metadata": {},
     "output_type": "execute_result"
    }
   ],
   "source": [
    "# Remove the non-positive fare_amount values.\n",
    "train=train[train['fare_amount']>0]\n",
    "train.shape"
   ]
  },
  {
   "cell_type": "code",
   "execution_count": 198,
   "metadata": {},
   "outputs": [
    {
     "name": "stderr",
     "output_type": "stream",
     "text": [
      "C:\\Users\\david\\AppData\\Local\\Temp\\ipykernel_13540\\1644190799.py:1: SettingWithCopyWarning: \n",
      "A value is trying to be set on a copy of a slice from a DataFrame\n",
      "\n",
      "See the caveats in the documentation: https://pandas.pydata.org/pandas-docs/stable/user_guide/indexing.html#returning-a-view-versus-a-copy\n",
      "  train.drop_duplicates(inplace=True)\n"
     ]
    }
   ],
   "source": [
    "train.drop_duplicates(inplace=True)"
   ]
  },
  {
   "cell_type": "markdown",
   "metadata": {},
   "source": [
    "**Next let us explore the pickup latitude and longitudes**, "
   ]
  },
  {
   "cell_type": "markdown",
   "metadata": {},
   "source": [
    "Googling gave me this info\n",
    "*   Latitudes range from -90 to 90.\n",
    "*   Longitudes range from -180 to 180.\n",
    "\n",
    "The above describe clearly shows some outliers. Let's filter them\n"
   ]
  },
  {
   "cell_type": "code",
   "execution_count": 199,
   "metadata": {},
   "outputs": [],
   "source": [
    "train= train[(train['pickup_longitude']<=180) & (train['pickup_longitude']>=-180) & (train['dropoff_longitude']<=180) & (train['dropoff_longitude']>=-180)\n",
    "           & (train['pickup_latitude']<=90) & (train['pickup_latitude']>=-90)\n",
    "           & (train['dropoff_latitude']<=90) & (train['dropoff_latitude']>=-90)]"
   ]
  },
  {
   "cell_type": "markdown",
   "metadata": {},
   "source": [
    "New york City Boundaries were found to be \n",
    "Longitude: -71°W to -79° W and Latitude: 40°N to 45°N."
   ]
  },
  {
   "cell_type": "code",
   "execution_count": 200,
   "metadata": {},
   "outputs": [],
   "source": [
    "train = train[(train['pickup_latitude']>40)&(train['pickup_latitude']<45)]\n",
    "train = train[(train['dropoff_latitude']>40)&(train['dropoff_latitude']<45)]\n",
    "\n",
    "train = train[(train['pickup_longitude']<-71)&(train['pickup_longitude']>-79)]\n",
    "train = train[(train['dropoff_longitude']<-71)&(train['dropoff_longitude']>-79)]\n"
   ]
  },
  {
   "cell_type": "code",
   "execution_count": 201,
   "metadata": {},
   "outputs": [
    {
     "data": {
      "text/plain": [
       "(97846, 9)"
      ]
     },
     "execution_count": 201,
     "metadata": {},
     "output_type": "execute_result"
    }
   ],
   "source": [
    "train.shape"
   ]
  },
  {
   "cell_type": "code",
   "execution_count": 202,
   "metadata": {},
   "outputs": [
    {
     "data": {
      "text/html": [
       "<div>\n",
       "<style scoped>\n",
       "    .dataframe tbody tr th:only-of-type {\n",
       "        vertical-align: middle;\n",
       "    }\n",
       "\n",
       "    .dataframe tbody tr th {\n",
       "        vertical-align: top;\n",
       "    }\n",
       "\n",
       "    .dataframe thead th {\n",
       "        text-align: right;\n",
       "    }\n",
       "</style>\n",
       "<table border=\"1\" class=\"dataframe\">\n",
       "  <thead>\n",
       "    <tr style=\"text-align: right;\">\n",
       "      <th></th>\n",
       "      <th>Unnamed: 0</th>\n",
       "      <th>key</th>\n",
       "      <th>fare_amount</th>\n",
       "      <th>pickup_datetime</th>\n",
       "      <th>pickup_longitude</th>\n",
       "      <th>pickup_latitude</th>\n",
       "      <th>dropoff_longitude</th>\n",
       "      <th>dropoff_latitude</th>\n",
       "      <th>passenger_count</th>\n",
       "    </tr>\n",
       "  </thead>\n",
       "  <tbody>\n",
       "    <tr>\n",
       "      <th>0</th>\n",
       "      <td>0</td>\n",
       "      <td>2009-04-08 19:11:10.0000004</td>\n",
       "      <td>4.9</td>\n",
       "      <td>2009-04-08 19:11:10 UTC</td>\n",
       "      <td>-73.998287</td>\n",
       "      <td>40.727490</td>\n",
       "      <td>-73.989854</td>\n",
       "      <td>40.735239</td>\n",
       "      <td>2</td>\n",
       "    </tr>\n",
       "    <tr>\n",
       "      <th>1</th>\n",
       "      <td>1</td>\n",
       "      <td>2012-07-30 16:19:08.0000003</td>\n",
       "      <td>4.9</td>\n",
       "      <td>2012-07-30 16:19:08 UTC</td>\n",
       "      <td>-73.966597</td>\n",
       "      <td>40.794345</td>\n",
       "      <td>-73.965682</td>\n",
       "      <td>40.803808</td>\n",
       "      <td>2</td>\n",
       "    </tr>\n",
       "    <tr>\n",
       "      <th>2</th>\n",
       "      <td>2</td>\n",
       "      <td>2011-02-22 13:35:00.000000121</td>\n",
       "      <td>6.9</td>\n",
       "      <td>2011-02-22 13:35:00 UTC</td>\n",
       "      <td>-73.971638</td>\n",
       "      <td>40.763382</td>\n",
       "      <td>-73.953767</td>\n",
       "      <td>40.783715</td>\n",
       "      <td>1</td>\n",
       "    </tr>\n",
       "    <tr>\n",
       "      <th>3</th>\n",
       "      <td>3</td>\n",
       "      <td>2010-10-07 21:09:35.0000002</td>\n",
       "      <td>14.1</td>\n",
       "      <td>2010-10-07 21:09:35 UTC</td>\n",
       "      <td>-74.003545</td>\n",
       "      <td>40.707399</td>\n",
       "      <td>-73.981312</td>\n",
       "      <td>40.750071</td>\n",
       "      <td>1</td>\n",
       "    </tr>\n",
       "    <tr>\n",
       "      <th>4</th>\n",
       "      <td>4</td>\n",
       "      <td>2009-10-02 22:51:00.000000140</td>\n",
       "      <td>12.1</td>\n",
       "      <td>2009-10-02 22:51:00 UTC</td>\n",
       "      <td>-74.004532</td>\n",
       "      <td>40.707465</td>\n",
       "      <td>-73.977908</td>\n",
       "      <td>40.745633</td>\n",
       "      <td>5</td>\n",
       "    </tr>\n",
       "    <tr>\n",
       "      <th>...</th>\n",
       "      <td>...</td>\n",
       "      <td>...</td>\n",
       "      <td>...</td>\n",
       "      <td>...</td>\n",
       "      <td>...</td>\n",
       "      <td>...</td>\n",
       "      <td>...</td>\n",
       "      <td>...</td>\n",
       "      <td>...</td>\n",
       "    </tr>\n",
       "    <tr>\n",
       "      <th>99995</th>\n",
       "      <td>99995</td>\n",
       "      <td>2015-06-08 07:05:28.0000003</td>\n",
       "      <td>4.5</td>\n",
       "      <td>2015-06-08 07:05:28 UTC</td>\n",
       "      <td>-73.965111</td>\n",
       "      <td>40.772343</td>\n",
       "      <td>-73.952072</td>\n",
       "      <td>40.768021</td>\n",
       "      <td>1</td>\n",
       "    </tr>\n",
       "    <tr>\n",
       "      <th>99996</th>\n",
       "      <td>99996</td>\n",
       "      <td>2012-09-17 15:09:00.000000161</td>\n",
       "      <td>25.5</td>\n",
       "      <td>2012-09-17 15:09:00 UTC</td>\n",
       "      <td>-73.786162</td>\n",
       "      <td>40.640710</td>\n",
       "      <td>-73.878865</td>\n",
       "      <td>40.658735</td>\n",
       "      <td>1</td>\n",
       "    </tr>\n",
       "    <tr>\n",
       "      <th>99997</th>\n",
       "      <td>99997</td>\n",
       "      <td>2013-02-02 19:02:00.00000047</td>\n",
       "      <td>14.5</td>\n",
       "      <td>2013-02-02 19:02:00 UTC</td>\n",
       "      <td>-73.982023</td>\n",
       "      <td>40.758052</td>\n",
       "      <td>-73.993930</td>\n",
       "      <td>40.734462</td>\n",
       "      <td>1</td>\n",
       "    </tr>\n",
       "    <tr>\n",
       "      <th>99998</th>\n",
       "      <td>99998</td>\n",
       "      <td>2013-12-28 15:44:17.0000004</td>\n",
       "      <td>9.0</td>\n",
       "      <td>2013-12-28 15:44:17 UTC</td>\n",
       "      <td>-73.956423</td>\n",
       "      <td>40.778140</td>\n",
       "      <td>-73.981008</td>\n",
       "      <td>40.779568</td>\n",
       "      <td>1</td>\n",
       "    </tr>\n",
       "    <tr>\n",
       "      <th>99999</th>\n",
       "      <td>99999</td>\n",
       "      <td>2014-04-26 19:30:00.000000186</td>\n",
       "      <td>15.0</td>\n",
       "      <td>2014-04-26 19:30:00 UTC</td>\n",
       "      <td>-73.989565</td>\n",
       "      <td>40.758757</td>\n",
       "      <td>-73.989992</td>\n",
       "      <td>40.733387</td>\n",
       "      <td>1</td>\n",
       "    </tr>\n",
       "  </tbody>\n",
       "</table>\n",
       "<p>97846 rows × 9 columns</p>\n",
       "</div>"
      ],
      "text/plain": [
       "       Unnamed: 0                            key  fare_amount  \\\n",
       "0               0    2009-04-08 19:11:10.0000004          4.9   \n",
       "1               1    2012-07-30 16:19:08.0000003          4.9   \n",
       "2               2  2011-02-22 13:35:00.000000121          6.9   \n",
       "3               3    2010-10-07 21:09:35.0000002         14.1   \n",
       "4               4  2009-10-02 22:51:00.000000140         12.1   \n",
       "...           ...                            ...          ...   \n",
       "99995       99995    2015-06-08 07:05:28.0000003          4.5   \n",
       "99996       99996  2012-09-17 15:09:00.000000161         25.5   \n",
       "99997       99997   2013-02-02 19:02:00.00000047         14.5   \n",
       "99998       99998    2013-12-28 15:44:17.0000004          9.0   \n",
       "99999       99999  2014-04-26 19:30:00.000000186         15.0   \n",
       "\n",
       "               pickup_datetime  pickup_longitude  pickup_latitude  \\\n",
       "0      2009-04-08 19:11:10 UTC        -73.998287        40.727490   \n",
       "1      2012-07-30 16:19:08 UTC        -73.966597        40.794345   \n",
       "2      2011-02-22 13:35:00 UTC        -73.971638        40.763382   \n",
       "3      2010-10-07 21:09:35 UTC        -74.003545        40.707399   \n",
       "4      2009-10-02 22:51:00 UTC        -74.004532        40.707465   \n",
       "...                        ...               ...              ...   \n",
       "99995  2015-06-08 07:05:28 UTC        -73.965111        40.772343   \n",
       "99996  2012-09-17 15:09:00 UTC        -73.786162        40.640710   \n",
       "99997  2013-02-02 19:02:00 UTC        -73.982023        40.758052   \n",
       "99998  2013-12-28 15:44:17 UTC        -73.956423        40.778140   \n",
       "99999  2014-04-26 19:30:00 UTC        -73.989565        40.758757   \n",
       "\n",
       "       dropoff_longitude  dropoff_latitude  passenger_count  \n",
       "0             -73.989854         40.735239                2  \n",
       "1             -73.965682         40.803808                2  \n",
       "2             -73.953767         40.783715                1  \n",
       "3             -73.981312         40.750071                1  \n",
       "4             -73.977908         40.745633                5  \n",
       "...                  ...               ...              ...  \n",
       "99995         -73.952072         40.768021                1  \n",
       "99996         -73.878865         40.658735                1  \n",
       "99997         -73.993930         40.734462                1  \n",
       "99998         -73.981008         40.779568                1  \n",
       "99999         -73.989992         40.733387                1  \n",
       "\n",
       "[97846 rows x 9 columns]"
      ]
     },
     "execution_count": 202,
     "metadata": {},
     "output_type": "execute_result"
    }
   ],
   "source": [
    "train"
   ]
  },
  {
   "cell_type": "code",
   "execution_count": 203,
   "metadata": {},
   "outputs": [
    {
     "data": {
      "text/plain": [
       "(97846, 9)"
      ]
     },
     "execution_count": 203,
     "metadata": {},
     "output_type": "execute_result"
    }
   ],
   "source": [
    "train.shape"
   ]
  },
  {
   "cell_type": "markdown",
   "metadata": {},
   "source": [
    "Check the data types of each column\n"
   ]
  },
  {
   "cell_type": "code",
   "execution_count": 204,
   "metadata": {},
   "outputs": [
    {
     "data": {
      "text/plain": [
       "Unnamed: 0             int64\n",
       "key                   object\n",
       "fare_amount          float64\n",
       "pickup_datetime       object\n",
       "pickup_longitude     float64\n",
       "pickup_latitude      float64\n",
       "dropoff_longitude    float64\n",
       "dropoff_latitude     float64\n",
       "passenger_count        int64\n",
       "dtype: object"
      ]
     },
     "execution_count": 204,
     "metadata": {},
     "output_type": "execute_result"
    }
   ],
   "source": [
    "train.dtypes"
   ]
  },
  {
   "cell_type": "code",
   "execution_count": 205,
   "metadata": {},
   "outputs": [],
   "source": [
    "train.drop(\"Unnamed: 0\",axis=\"columns\",inplace=True)"
   ]
  },
  {
   "cell_type": "code",
   "execution_count": 206,
   "metadata": {},
   "outputs": [
    {
     "data": {
      "text/plain": [
       "Index(['key', 'fare_amount', 'pickup_datetime', 'pickup_longitude',\n",
       "       'pickup_latitude', 'dropoff_longitude', 'dropoff_latitude',\n",
       "       'passenger_count'],\n",
       "      dtype='object')"
      ]
     },
     "execution_count": 206,
     "metadata": {},
     "output_type": "execute_result"
    }
   ],
   "source": [
    "train.columns"
   ]
  },
  {
   "cell_type": "markdown",
   "metadata": {},
   "source": [
    "key and pickup_datetime seem to be datetime columns which are in object format. Let's convert them to datetime"
   ]
  },
  {
   "cell_type": "code",
   "execution_count": 207,
   "metadata": {},
   "outputs": [],
   "source": [
    "train['key'] = pd.to_datetime(train['key'])\n",
    "train['pickup_datetime']  = pd.to_datetime(train['pickup_datetime'])"
   ]
  },
  {
   "cell_type": "code",
   "execution_count": 208,
   "metadata": {},
   "outputs": [],
   "source": [
    "#Convert for test data\n",
    "test['key'] = pd.to_datetime(test['key'])\n",
    "test['pickup_datetime']  = pd.to_datetime(test['pickup_datetime'])"
   ]
  },
  {
   "cell_type": "code",
   "execution_count": 209,
   "metadata": {},
   "outputs": [
    {
     "data": {
      "text/plain": [
       "key                       datetime64[ns]\n",
       "fare_amount                      float64\n",
       "pickup_datetime      datetime64[ns, UTC]\n",
       "pickup_longitude                 float64\n",
       "pickup_latitude                  float64\n",
       "dropoff_longitude                float64\n",
       "dropoff_latitude                 float64\n",
       "passenger_count                    int64\n",
       "dtype: object"
      ]
     },
     "execution_count": 209,
     "metadata": {},
     "output_type": "execute_result"
    }
   ],
   "source": [
    "#check the dtypes after conversion\n",
    "train.dtypes"
   ]
  },
  {
   "cell_type": "code",
   "execution_count": 210,
   "metadata": {},
   "outputs": [
    {
     "data": {
      "image/png": "[encoded data removed]",
      "text/plain": [
       "<Figure size 864x360 with 1 Axes>"
      ]
     },
     "metadata": {
      "needs_background": "light"
     },
     "output_type": "display_data"
    }
   ],
   "source": [
    "plt.figure(figsize=(12,5))\n",
    "n,bins,patches=plt.hist(train.fare_amount,1000,facecolor='blue',alpha=0.75)\n",
    "plt.xlabel(\"Fare amount\",fontsize=15)\n",
    "plt.title('Histogram of Fare Amount',fontsize=25)\n",
    "plt.xlim(0,100)\n",
    "plt.show()"
   ]
  },
  {
   "cell_type": "markdown",
   "metadata": {},
   "source": [
    "From the graph we can conclude that, most of the fare amounts lie between 0 to 20"
   ]
  },
  {
   "cell_type": "markdown",
   "metadata": {},
   "source": [
    "From the graph, Most of the passengers wouuld like to travel alone"
   ]
  },
  {
   "cell_type": "code",
   "execution_count": 211,
   "metadata": {},
   "outputs": [
    {
     "data": {
      "text/plain": [
       "key                       datetime64[ns]\n",
       "pickup_datetime      datetime64[ns, UTC]\n",
       "pickup_longitude                 float64\n",
       "pickup_latitude                  float64\n",
       "dropoff_longitude                float64\n",
       "dropoff_latitude                 float64\n",
       "passenger_count                    int64\n",
       "dtype: object"
      ]
     },
     "execution_count": 211,
     "metadata": {},
     "output_type": "execute_result"
    }
   ],
   "source": [
    "test.dtypes"
   ]
  },
  {
   "cell_type": "markdown",
   "metadata": {},
   "source": [
    "Now, for **EDA**. The following are my considerations - \n",
    "1. Does the number of passengers affect the fare? \n",
    "2. Does the date and time of pickup affect the fare? \n",
    "3. Does the day of the week affect the fare? \n",
    "4. Does the distance travelled affect the fare? \n",
    "\n",
    "First, let's split the datetime field 'pickup_datetime' to the following - \n",
    "* year\n",
    "* month\n",
    "* date\n",
    "* hour\n",
    "* day of week\n",
    "\n",
    "Using these we shall calculate the day of the week and come to our conclusions about how pickup_location affects the fare.\n",
    "Also, create a new field 'distance' to fetch the distance between the pickup and the drop."
   ]
  },
  {
   "cell_type": "markdown",
   "metadata": {},
   "source": [
    "We can calulate the distance in a sphere when latitudes and longitudes are given by [Haversine formula](https://en.wikipedia.org/wiki/Haversine_formula)\n",
    "\n",
    "**haversine(θ) = sin²(θ/2)**\n",
    "\n",
    "Eventually, the formual boils down to the following where φ is latitude, λ is longitude, R is earth’s radius (mean radius = 6,371km) to include latitude and longitude coordinates (A and B in this case).\n",
    "\n",
    "**a = sin²((φB - φA)/2) + cos φA . cos φB . sin²((λB - λA)/2)**\n",
    "\n",
    "**c = 2 * atan2( √a, √(1−a) )**\n",
    "\n",
    "**d = R ⋅ c**\n",
    "\n",
    "**d = Haversine distance**\n",
    "\n",
    "*Refer [this](https://community.esri.com/groups/coordinate-reference-systems/blog/2017/10/05/haversine-formula) page for more info and examples on Haversine formula*\n",
    "\n",
    "Is this distance equal to the road travel distance? Do we have to do something else?\n"
   ]
  },
  {
   "cell_type": "code",
   "execution_count": 212,
   "metadata": {},
   "outputs": [],
   "source": [
    "def haversine_distance(lat1, long1, lat2, long2):\n",
    "    data = [train, test]\n",
    "    for i in data:\n",
    "        R = 6371  #radius of earth in kilometers\n",
    "        phi1 = np.radians(i[lat1])\n",
    "        phi2 = np.radians(i[lat2])\n",
    "    \n",
    "        delta_phi = np.radians(i[lat2]-i[lat1])\n",
    "        delta_lambda = np.radians(i[long2]-i[long1])\n",
    "    \n",
    "        #a = sin²((φB - φA)/2) + cos φA . cos φB . sin²((λB - λA)/2)\n",
    "        a = np.sin(delta_phi / 2.0) ** 2 + np.cos(phi1) * np.cos(phi2) * np.sin(delta_lambda / 2.0) ** 2\n",
    "    \n",
    "        #c = 2 * atan2( √a, √(1−a) )\n",
    "        c = 2 * np.arctan2(np.sqrt(a), np.sqrt(1-a))\n",
    "    \n",
    "        #d = R*c\n",
    "        d = (R * c) #in kilometers\n",
    "        i['H_Distance'] = d\n",
    "    return d"
   ]
  },
  {
   "cell_type": "code",
   "execution_count": 213,
   "metadata": {},
   "outputs": [
    {
     "data": {
      "text/plain": [
       "0        2.323260\n",
       "1        2.425353\n",
       "2        0.618628\n",
       "3        1.961033\n",
       "4        5.387301\n",
       "          ...    \n",
       "9909     2.124874\n",
       "9910     3.270969\n",
       "9911    19.183941\n",
       "9912     8.343486\n",
       "9913     1.180825\n",
       "Length: 9914, dtype: float64"
      ]
     },
     "execution_count": 213,
     "metadata": {},
     "output_type": "execute_result"
    }
   ],
   "source": [
    "haversine_distance('pickup_latitude', 'pickup_longitude', 'dropoff_latitude', 'dropoff_longitude')"
   ]
  },
  {
   "cell_type": "code",
   "execution_count": 214,
   "metadata": {},
   "outputs": [],
   "source": [
    "data = [train,test]\n",
    "for i in data:\n",
    "    i['Year'] = i['pickup_datetime'].dt.year\n",
    "    i['Month'] = i['pickup_datetime'].dt.month\n",
    "    i['Date'] = i['pickup_datetime'].dt.day\n",
    "    i['Day of Week'] = i['pickup_datetime'].dt.dayofweek\n",
    "    i['Hour'] = i['pickup_datetime'].dt.hour"
   ]
  },
  {
   "cell_type": "code",
   "execution_count": 215,
   "metadata": {},
   "outputs": [
    {
     "data": {
      "text/html": [
       "<div>\n",
       "<style scoped>\n",
       "    .dataframe tbody tr th:only-of-type {\n",
       "        vertical-align: middle;\n",
       "    }\n",
       "\n",
       "    .dataframe tbody tr th {\n",
       "        vertical-align: top;\n",
       "    }\n",
       "\n",
       "    .dataframe thead th {\n",
       "        text-align: right;\n",
       "    }\n",
       "</style>\n",
       "<table border=\"1\" class=\"dataframe\">\n",
       "  <thead>\n",
       "    <tr style=\"text-align: right;\">\n",
       "      <th></th>\n",
       "      <th>key</th>\n",
       "      <th>fare_amount</th>\n",
       "      <th>pickup_datetime</th>\n",
       "      <th>pickup_longitude</th>\n",
       "      <th>pickup_latitude</th>\n",
       "      <th>dropoff_longitude</th>\n",
       "      <th>dropoff_latitude</th>\n",
       "      <th>passenger_count</th>\n",
       "      <th>H_Distance</th>\n",
       "      <th>Year</th>\n",
       "      <th>Month</th>\n",
       "      <th>Date</th>\n",
       "      <th>Day of Week</th>\n",
       "      <th>Hour</th>\n",
       "    </tr>\n",
       "  </thead>\n",
       "  <tbody>\n",
       "    <tr>\n",
       "      <th>0</th>\n",
       "      <td>2009-04-08 19:11:10.000000400</td>\n",
       "      <td>4.9</td>\n",
       "      <td>2009-04-08 19:11:10+00:00</td>\n",
       "      <td>-73.998287</td>\n",
       "      <td>40.727490</td>\n",
       "      <td>-73.989854</td>\n",
       "      <td>40.735239</td>\n",
       "      <td>2</td>\n",
       "      <td>1.116850</td>\n",
       "      <td>2009</td>\n",
       "      <td>4</td>\n",
       "      <td>8</td>\n",
       "      <td>2</td>\n",
       "      <td>19</td>\n",
       "    </tr>\n",
       "    <tr>\n",
       "      <th>1</th>\n",
       "      <td>2012-07-30 16:19:08.000000300</td>\n",
       "      <td>4.9</td>\n",
       "      <td>2012-07-30 16:19:08+00:00</td>\n",
       "      <td>-73.966597</td>\n",
       "      <td>40.794345</td>\n",
       "      <td>-73.965682</td>\n",
       "      <td>40.803808</td>\n",
       "      <td>2</td>\n",
       "      <td>1.055053</td>\n",
       "      <td>2012</td>\n",
       "      <td>7</td>\n",
       "      <td>30</td>\n",
       "      <td>0</td>\n",
       "      <td>16</td>\n",
       "    </tr>\n",
       "    <tr>\n",
       "      <th>2</th>\n",
       "      <td>2011-02-22 13:35:00.000000121</td>\n",
       "      <td>6.9</td>\n",
       "      <td>2011-02-22 13:35:00+00:00</td>\n",
       "      <td>-73.971638</td>\n",
       "      <td>40.763382</td>\n",
       "      <td>-73.953767</td>\n",
       "      <td>40.783715</td>\n",
       "      <td>1</td>\n",
       "      <td>2.715959</td>\n",
       "      <td>2011</td>\n",
       "      <td>2</td>\n",
       "      <td>22</td>\n",
       "      <td>1</td>\n",
       "      <td>13</td>\n",
       "    </tr>\n",
       "    <tr>\n",
       "      <th>3</th>\n",
       "      <td>2010-10-07 21:09:35.000000200</td>\n",
       "      <td>14.1</td>\n",
       "      <td>2010-10-07 21:09:35+00:00</td>\n",
       "      <td>-74.003545</td>\n",
       "      <td>40.707399</td>\n",
       "      <td>-73.981312</td>\n",
       "      <td>40.750071</td>\n",
       "      <td>1</td>\n",
       "      <td>5.101370</td>\n",
       "      <td>2010</td>\n",
       "      <td>10</td>\n",
       "      <td>7</td>\n",
       "      <td>3</td>\n",
       "      <td>21</td>\n",
       "    </tr>\n",
       "    <tr>\n",
       "      <th>4</th>\n",
       "      <td>2009-10-02 22:51:00.000000140</td>\n",
       "      <td>12.1</td>\n",
       "      <td>2009-10-02 22:51:00+00:00</td>\n",
       "      <td>-74.004532</td>\n",
       "      <td>40.707465</td>\n",
       "      <td>-73.977908</td>\n",
       "      <td>40.745633</td>\n",
       "      <td>5</td>\n",
       "      <td>4.800593</td>\n",
       "      <td>2009</td>\n",
       "      <td>10</td>\n",
       "      <td>2</td>\n",
       "      <td>4</td>\n",
       "      <td>22</td>\n",
       "    </tr>\n",
       "  </tbody>\n",
       "</table>\n",
       "</div>"
      ],
      "text/plain": [
       "                            key  fare_amount           pickup_datetime  \\\n",
       "0 2009-04-08 19:11:10.000000400          4.9 2009-04-08 19:11:10+00:00   \n",
       "1 2012-07-30 16:19:08.000000300          4.9 2012-07-30 16:19:08+00:00   \n",
       "2 2011-02-22 13:35:00.000000121          6.9 2011-02-22 13:35:00+00:00   \n",
       "3 2010-10-07 21:09:35.000000200         14.1 2010-10-07 21:09:35+00:00   \n",
       "4 2009-10-02 22:51:00.000000140         12.1 2009-10-02 22:51:00+00:00   \n",
       "\n",
       "   pickup_longitude  pickup_latitude  dropoff_longitude  dropoff_latitude  \\\n",
       "0        -73.998287        40.727490         -73.989854         40.735239   \n",
       "1        -73.966597        40.794345         -73.965682         40.803808   \n",
       "2        -73.971638        40.763382         -73.953767         40.783715   \n",
       "3        -74.003545        40.707399         -73.981312         40.750071   \n",
       "4        -74.004532        40.707465         -73.977908         40.745633   \n",
       "\n",
       "   passenger_count  H_Distance  Year  Month  Date  Day of Week  Hour  \n",
       "0                2    1.116850  2009      4     8            2    19  \n",
       "1                2    1.055053  2012      7    30            0    16  \n",
       "2                1    2.715959  2011      2    22            1    13  \n",
       "3                1    5.101370  2010     10     7            3    21  \n",
       "4                5    4.800593  2009     10     2            4    22  "
      ]
     },
     "execution_count": 215,
     "metadata": {},
     "output_type": "execute_result"
    }
   ],
   "source": [
    "train.head()"
   ]
  },
  {
   "cell_type": "code",
   "execution_count": 216,
   "metadata": {},
   "outputs": [],
   "source": [
    "train=train.drop(['key','pickup_datetime','pickup_longitude','pickup_latitude','dropoff_longitude','dropoff_latitude'],axis='columns')\n",
    "test=test.drop(['key','pickup_datetime','pickup_longitude','pickup_latitude','dropoff_longitude','dropoff_latitude'],axis='columns')\n"
   ]
  },
  {
   "cell_type": "code",
   "execution_count": 217,
   "metadata": {},
   "outputs": [
    {
     "data": {
      "text/plain": [
       "[Text(0.5, 1.0, 'Count plot of Year')]"
      ]
     },
     "execution_count": 217,
     "metadata": {},
     "output_type": "execute_result"
    },
    {
     "data": {
      "image/png": "[encoded data removed]",
      "text/plain": [
       "<Figure size 432x288 with 1 Axes>"
      ]
     },
     "metadata": {
      "needs_background": "light"
     },
     "output_type": "display_data"
    }
   ],
   "source": [
    "sns.countplot(x='Year', data=train).set(title='Count plot of Year')"
   ]
  },
  {
   "cell_type": "code",
   "execution_count": 218,
   "metadata": {},
   "outputs": [
    {
     "data": {
      "text/plain": [
       "[Text(0.5, 1.0, 'Count plot of Month')]"
      ]
     },
     "execution_count": 218,
     "metadata": {},
     "output_type": "execute_result"
    },
    {
     "data": {
      "image/png": "[encoded data removed]",
      "text/plain": [
       "<Figure size 432x288 with 1 Axes>"
      ]
     },
     "metadata": {
      "needs_background": "light"
     },
     "output_type": "display_data"
    }
   ],
   "source": [
    "\n",
    "sns.countplot(x='Month', data=train).set(title='Count plot of Month')"
   ]
  },
  {
   "cell_type": "code",
   "execution_count": 219,
   "metadata": {},
   "outputs": [
    {
     "data": {
      "text/plain": [
       "[Text(0.5, 1.0, 'Count plot of Day of Week')]"
      ]
     },
     "execution_count": 219,
     "metadata": {},
     "output_type": "execute_result"
    },
    {
     "data": {
      "image/png": "[encoded data removed]",
      "text/plain": [
       "<Figure size 432x288 with 1 Axes>"
      ]
     },
     "metadata": {
      "needs_background": "light"
     },
     "output_type": "display_data"
    }
   ],
   "source": [
    "\n",
    "sns.countplot(x='Day of Week', data=train).set(title='Count plot of Day of Week')"
   ]
  },
  {
   "cell_type": "code",
   "execution_count": 220,
   "metadata": {},
   "outputs": [
    {
     "data": {
      "text/plain": [
       "[Text(0.5, 1.0, 'Count plot of Hour')]"
      ]
     },
     "execution_count": 220,
     "metadata": {},
     "output_type": "execute_result"
    },
    {
     "data": {
      "image/png": "[encoded data removed]",
      "text/plain": [
       "<Figure size 432x288 with 1 Axes>"
      ]
     },
     "metadata": {
      "needs_background": "light"
     },
     "output_type": "display_data"
    }
   ],
   "source": [
    "sns.countplot(x='Hour', data=train).set(title='Count plot of Hour')"
   ]
  },
  {
   "cell_type": "code",
   "execution_count": 221,
   "metadata": {},
   "outputs": [
    {
     "data": {
      "text/plain": [
       "[Text(0.5, 1.0, 'Count plot of Passenger count')]"
      ]
     },
     "execution_count": 221,
     "metadata": {},
     "output_type": "execute_result"
    },
    {
     "data": {
      "image/png": "[encoded data removed]",
      "text/plain": [
       "<Figure size 432x288 with 1 Axes>"
      ]
     },
     "metadata": {
      "needs_background": "light"
     },
     "output_type": "display_data"
    }
   ],
   "source": [
    "sns.countplot(x='passenger_count', data=train).set(title='Count plot of Passenger count')"
   ]
  },
  {
   "cell_type": "markdown",
   "metadata": {},
   "source": [
    "* Detecting Outliers from each columns"
   ]
  },
  {
   "cell_type": "code",
   "execution_count": 222,
   "metadata": {},
   "outputs": [
    {
     "data": {
      "text/plain": [
       "<AxesSubplot:ylabel='fare_amount'>"
      ]
     },
     "execution_count": 222,
     "metadata": {},
     "output_type": "execute_result"
    },
    {
     "data": {
      "image/png": "[encoded data removed]",
      "text/plain": [
       "<Figure size 432x288 with 1 Axes>"
      ]
     },
     "metadata": {
      "needs_background": "light"
     },
     "output_type": "display_data"
    }
   ],
   "source": [
    "sns.boxplot(y=train['fare_amount'],whis=[5,95])"
   ]
  },
  {
   "cell_type": "code",
   "execution_count": 223,
   "metadata": {},
   "outputs": [
    {
     "data": {
      "text/plain": [
       "<AxesSubplot:ylabel='passenger_count'>"
      ]
     },
     "execution_count": 223,
     "metadata": {},
     "output_type": "execute_result"
    },
    {
     "data": {
      "image/png": "[encoded data removed]",
      "text/plain": [
       "<Figure size 432x288 with 1 Axes>"
      ]
     },
     "metadata": {
      "needs_background": "light"
     },
     "output_type": "display_data"
    }
   ],
   "source": [
    "sns.boxplot(y=train['passenger_count'],whis=[5,95])"
   ]
  },
  {
   "cell_type": "code",
   "execution_count": 224,
   "metadata": {},
   "outputs": [
    {
     "data": {
      "text/plain": [
       "<AxesSubplot:ylabel='H_Distance'>"
      ]
     },
     "execution_count": 224,
     "metadata": {},
     "output_type": "execute_result"
    },
    {
     "data": {
      "image/png": "[encoded data removed]",
      "text/plain": [
       "<Figure size 432x288 with 1 Axes>"
      ]
     },
     "metadata": {
      "needs_background": "light"
     },
     "output_type": "display_data"
    }
   ],
   "source": [
    "sns.boxplot(y=train['H_Distance'],whis=[5,95])\n"
   ]
  },
  {
   "cell_type": "code",
   "execution_count": 225,
   "metadata": {},
   "outputs": [
    {
     "data": {
      "text/plain": [
       "<AxesSubplot:ylabel='Year'>"
      ]
     },
     "execution_count": 225,
     "metadata": {},
     "output_type": "execute_result"
    },
    {
     "data": {
      "image/png": "[encoded data removed]",
      "text/plain": [
       "<Figure size 432x288 with 1 Axes>"
      ]
     },
     "metadata": {
      "needs_background": "light"
     },
     "output_type": "display_data"
    }
   ],
   "source": [
    "sns.boxplot(y=train['Year'],whis=[5,95])"
   ]
  },
  {
   "cell_type": "code",
   "execution_count": 226,
   "metadata": {},
   "outputs": [
    {
     "data": {
      "text/plain": [
       "<AxesSubplot:ylabel='Month'>"
      ]
     },
     "execution_count": 226,
     "metadata": {},
     "output_type": "execute_result"
    },
    {
     "data": {
      "image/png": "[encoded data removed]",
      "text/plain": [
       "<Figure size 432x288 with 1 Axes>"
      ]
     },
     "metadata": {
      "needs_background": "light"
     },
     "output_type": "display_data"
    }
   ],
   "source": [
    "sns.boxplot(y=train['Month'],whis=[5,95])"
   ]
  },
  {
   "cell_type": "code",
   "execution_count": 227,
   "metadata": {},
   "outputs": [
    {
     "data": {
      "text/plain": [
       "<AxesSubplot:ylabel='Date'>"
      ]
     },
     "execution_count": 227,
     "metadata": {},
     "output_type": "execute_result"
    },
    {
     "data": {
      "image/png": "[encoded data removed]",
      "text/plain": [
       "<Figure size 432x288 with 1 Axes>"
      ]
     },
     "metadata": {
      "needs_background": "light"
     },
     "output_type": "display_data"
    }
   ],
   "source": [
    "sns.boxplot(y=train['Date'],whis=[5,95])"
   ]
  },
  {
   "cell_type": "code",
   "execution_count": 228,
   "metadata": {},
   "outputs": [
    {
     "data": {
      "text/plain": [
       "<AxesSubplot:ylabel='Day of Week'>"
      ]
     },
     "execution_count": 228,
     "metadata": {},
     "output_type": "execute_result"
    },
    {
     "data": {
      "image/png": "[encoded data removed]",
      "text/plain": [
       "<Figure size 432x288 with 1 Axes>"
      ]
     },
     "metadata": {
      "needs_background": "light"
     },
     "output_type": "display_data"
    }
   ],
   "source": [
    "sns.boxplot(y=train['Day of Week'],whis=[5,95])"
   ]
  },
  {
   "cell_type": "code",
   "execution_count": 229,
   "metadata": {},
   "outputs": [
    {
     "data": {
      "text/plain": [
       "<AxesSubplot:ylabel='Hour'>"
      ]
     },
     "execution_count": 229,
     "metadata": {},
     "output_type": "execute_result"
    },
    {
     "data": {
      "image/png": "[encoded data removed]",
      "text/plain": [
       "<Figure size 432x288 with 1 Axes>"
      ]
     },
     "metadata": {
      "needs_background": "light"
     },
     "output_type": "display_data"
    }
   ],
   "source": [
    "sns.boxplot(y=train['Hour'],whis=[5,95])"
   ]
  },
  {
   "cell_type": "markdown",
   "metadata": {},
   "source": [
    "**Outliers Exists in these columns - fare_amount, passenger_count, H_Distance ,Date,Hour**"
   ]
  },
  {
   "cell_type": "code",
   "execution_count": 230,
   "metadata": {},
   "outputs": [],
   "source": [
    "#Removing Outliers\n",
    "def outliers(data,column,a):\n",
    "    for x in column:\n",
    "        iqr = data[x].quantile(0.75) - data[x].quantile(0.25)\n",
    "        upper_boundary = data[x].quantile(0.75) + (a*iqr)\n",
    "        lower_boundary = data[x].quantile(0.25) - (a*iqr)\n",
    "        data = data[(data[x] < upper_boundary) & (data[x] > lower_boundary)]\n",
    "    return data"
   ]
  },
  {
   "cell_type": "code",
   "execution_count": 231,
   "metadata": {},
   "outputs": [],
   "source": [
    "train = outliers(train,['fare_amount','passenger_count','H_Distance','Date','Hour'],4.5)"
   ]
  },
  {
   "cell_type": "code",
   "execution_count": 232,
   "metadata": {},
   "outputs": [
    {
     "data": {
      "text/html": [
       "<div>\n",
       "<style scoped>\n",
       "    .dataframe tbody tr th:only-of-type {\n",
       "        vertical-align: middle;\n",
       "    }\n",
       "\n",
       "    .dataframe tbody tr th {\n",
       "        vertical-align: top;\n",
       "    }\n",
       "\n",
       "    .dataframe thead th {\n",
       "        text-align: right;\n",
       "    }\n",
       "</style>\n",
       "<table border=\"1\" class=\"dataframe\">\n",
       "  <thead>\n",
       "    <tr style=\"text-align: right;\">\n",
       "      <th></th>\n",
       "      <th>fare_amount</th>\n",
       "      <th>passenger_count</th>\n",
       "      <th>H_Distance</th>\n",
       "      <th>Year</th>\n",
       "      <th>Month</th>\n",
       "      <th>Date</th>\n",
       "      <th>Day of Week</th>\n",
       "      <th>Hour</th>\n",
       "    </tr>\n",
       "  </thead>\n",
       "  <tbody>\n",
       "    <tr>\n",
       "      <th>0</th>\n",
       "      <td>4.9</td>\n",
       "      <td>2</td>\n",
       "      <td>1.116850</td>\n",
       "      <td>2009</td>\n",
       "      <td>4</td>\n",
       "      <td>8</td>\n",
       "      <td>2</td>\n",
       "      <td>19</td>\n",
       "    </tr>\n",
       "    <tr>\n",
       "      <th>1</th>\n",
       "      <td>4.9</td>\n",
       "      <td>2</td>\n",
       "      <td>1.055053</td>\n",
       "      <td>2012</td>\n",
       "      <td>7</td>\n",
       "      <td>30</td>\n",
       "      <td>0</td>\n",
       "      <td>16</td>\n",
       "    </tr>\n",
       "    <tr>\n",
       "      <th>2</th>\n",
       "      <td>6.9</td>\n",
       "      <td>1</td>\n",
       "      <td>2.715959</td>\n",
       "      <td>2011</td>\n",
       "      <td>2</td>\n",
       "      <td>22</td>\n",
       "      <td>1</td>\n",
       "      <td>13</td>\n",
       "    </tr>\n",
       "    <tr>\n",
       "      <th>3</th>\n",
       "      <td>14.1</td>\n",
       "      <td>1</td>\n",
       "      <td>5.101370</td>\n",
       "      <td>2010</td>\n",
       "      <td>10</td>\n",
       "      <td>7</td>\n",
       "      <td>3</td>\n",
       "      <td>21</td>\n",
       "    </tr>\n",
       "    <tr>\n",
       "      <th>4</th>\n",
       "      <td>12.1</td>\n",
       "      <td>5</td>\n",
       "      <td>4.800593</td>\n",
       "      <td>2009</td>\n",
       "      <td>10</td>\n",
       "      <td>2</td>\n",
       "      <td>4</td>\n",
       "      <td>22</td>\n",
       "    </tr>\n",
       "    <tr>\n",
       "      <th>...</th>\n",
       "      <td>...</td>\n",
       "      <td>...</td>\n",
       "      <td>...</td>\n",
       "      <td>...</td>\n",
       "      <td>...</td>\n",
       "      <td>...</td>\n",
       "      <td>...</td>\n",
       "      <td>...</td>\n",
       "    </tr>\n",
       "    <tr>\n",
       "      <th>99995</th>\n",
       "      <td>4.5</td>\n",
       "      <td>1</td>\n",
       "      <td>1.198577</td>\n",
       "      <td>2015</td>\n",
       "      <td>6</td>\n",
       "      <td>8</td>\n",
       "      <td>0</td>\n",
       "      <td>7</td>\n",
       "    </tr>\n",
       "    <tr>\n",
       "      <th>99996</th>\n",
       "      <td>25.5</td>\n",
       "      <td>1</td>\n",
       "      <td>8.073564</td>\n",
       "      <td>2012</td>\n",
       "      <td>9</td>\n",
       "      <td>17</td>\n",
       "      <td>0</td>\n",
       "      <td>15</td>\n",
       "    </tr>\n",
       "    <tr>\n",
       "      <th>99997</th>\n",
       "      <td>14.5</td>\n",
       "      <td>1</td>\n",
       "      <td>2.808335</td>\n",
       "      <td>2013</td>\n",
       "      <td>2</td>\n",
       "      <td>2</td>\n",
       "      <td>5</td>\n",
       "      <td>19</td>\n",
       "    </tr>\n",
       "    <tr>\n",
       "      <th>99998</th>\n",
       "      <td>9.0</td>\n",
       "      <td>1</td>\n",
       "      <td>2.076158</td>\n",
       "      <td>2013</td>\n",
       "      <td>12</td>\n",
       "      <td>28</td>\n",
       "      <td>5</td>\n",
       "      <td>15</td>\n",
       "    </tr>\n",
       "    <tr>\n",
       "      <th>99999</th>\n",
       "      <td>15.0</td>\n",
       "      <td>1</td>\n",
       "      <td>2.821245</td>\n",
       "      <td>2014</td>\n",
       "      <td>4</td>\n",
       "      <td>26</td>\n",
       "      <td>5</td>\n",
       "      <td>19</td>\n",
       "    </tr>\n",
       "  </tbody>\n",
       "</table>\n",
       "<p>94881 rows × 8 columns</p>\n",
       "</div>"
      ],
      "text/plain": [
       "       fare_amount  passenger_count  H_Distance  Year  Month  Date  \\\n",
       "0              4.9                2    1.116850  2009      4     8   \n",
       "1              4.9                2    1.055053  2012      7    30   \n",
       "2              6.9                1    2.715959  2011      2    22   \n",
       "3             14.1                1    5.101370  2010     10     7   \n",
       "4             12.1                5    4.800593  2009     10     2   \n",
       "...            ...              ...         ...   ...    ...   ...   \n",
       "99995          4.5                1    1.198577  2015      6     8   \n",
       "99996         25.5                1    8.073564  2012      9    17   \n",
       "99997         14.5                1    2.808335  2013      2     2   \n",
       "99998          9.0                1    2.076158  2013     12    28   \n",
       "99999         15.0                1    2.821245  2014      4    26   \n",
       "\n",
       "       Day of Week  Hour  \n",
       "0                2    19  \n",
       "1                0    16  \n",
       "2                1    13  \n",
       "3                3    21  \n",
       "4                4    22  \n",
       "...            ...   ...  \n",
       "99995            0     7  \n",
       "99996            0    15  \n",
       "99997            5    19  \n",
       "99998            5    15  \n",
       "99999            5    19  \n",
       "\n",
       "[94881 rows x 8 columns]"
      ]
     },
     "execution_count": 232,
     "metadata": {},
     "output_type": "execute_result"
    }
   ],
   "source": [
    "train"
   ]
  },
  {
   "cell_type": "code",
   "execution_count": 233,
   "metadata": {},
   "outputs": [
    {
     "data": {
      "text/plain": [
       "(94881, 8)"
      ]
     },
     "execution_count": 233,
     "metadata": {},
     "output_type": "execute_result"
    }
   ],
   "source": [
    "train.shape"
   ]
  },
  {
   "cell_type": "code",
   "execution_count": 234,
   "metadata": {},
   "outputs": [],
   "source": [
    "## Normalization\n",
    "from sklearn.preprocessing import StandardScaler\n",
    "nor = StandardScaler()\n",
    "for i in train.columns:\n",
    "    a = np.array(train[i]).reshape(-1,1)\n",
    "    nor.fit(a)\n",
    "    train[i] = nor.transform(a).reshape(1,-1)[0]"
   ]
  },
  {
   "cell_type": "code",
   "execution_count": 235,
   "metadata": {},
   "outputs": [
    {
     "data": {
      "text/html": [
       "<div>\n",
       "<style scoped>\n",
       "    .dataframe tbody tr th:only-of-type {\n",
       "        vertical-align: middle;\n",
       "    }\n",
       "\n",
       "    .dataframe tbody tr th {\n",
       "        vertical-align: top;\n",
       "    }\n",
       "\n",
       "    .dataframe thead th {\n",
       "        text-align: right;\n",
       "    }\n",
       "</style>\n",
       "<table border=\"1\" class=\"dataframe\">\n",
       "  <thead>\n",
       "    <tr style=\"text-align: right;\">\n",
       "      <th></th>\n",
       "      <th>fare_amount</th>\n",
       "      <th>passenger_count</th>\n",
       "      <th>H_Distance</th>\n",
       "      <th>Year</th>\n",
       "      <th>Month</th>\n",
       "      <th>Date</th>\n",
       "      <th>Day of Week</th>\n",
       "      <th>Hour</th>\n",
       "    </tr>\n",
       "  </thead>\n",
       "  <tbody>\n",
       "    <tr>\n",
       "      <th>0</th>\n",
       "      <td>-0.823022</td>\n",
       "      <td>0.246187</td>\n",
       "      <td>-0.720492</td>\n",
       "      <td>-1.464722</td>\n",
       "      <td>-0.658305</td>\n",
       "      <td>-0.883917</td>\n",
       "      <td>-0.529267</td>\n",
       "      <td>0.839552</td>\n",
       "    </tr>\n",
       "    <tr>\n",
       "      <th>1</th>\n",
       "      <td>-0.823022</td>\n",
       "      <td>0.246187</td>\n",
       "      <td>-0.745564</td>\n",
       "      <td>0.147004</td>\n",
       "      <td>0.214757</td>\n",
       "      <td>1.645812</td>\n",
       "      <td>-1.555883</td>\n",
       "      <td>0.379473</td>\n",
       "    </tr>\n",
       "    <tr>\n",
       "      <th>2</th>\n",
       "      <td>-0.506804</td>\n",
       "      <td>-0.519614</td>\n",
       "      <td>-0.071708</td>\n",
       "      <td>-0.390238</td>\n",
       "      <td>-1.240346</td>\n",
       "      <td>0.725910</td>\n",
       "      <td>-1.042575</td>\n",
       "      <td>-0.080605</td>\n",
       "    </tr>\n",
       "    <tr>\n",
       "      <th>3</th>\n",
       "      <td>0.631579</td>\n",
       "      <td>-0.519614</td>\n",
       "      <td>0.896092</td>\n",
       "      <td>-0.927480</td>\n",
       "      <td>1.087820</td>\n",
       "      <td>-0.998905</td>\n",
       "      <td>-0.015960</td>\n",
       "      <td>1.146271</td>\n",
       "    </tr>\n",
       "    <tr>\n",
       "      <th>4</th>\n",
       "      <td>0.315361</td>\n",
       "      <td>2.543591</td>\n",
       "      <td>0.774062</td>\n",
       "      <td>-1.464722</td>\n",
       "      <td>1.087820</td>\n",
       "      <td>-1.573843</td>\n",
       "      <td>0.497348</td>\n",
       "      <td>1.299630</td>\n",
       "    </tr>\n",
       "    <tr>\n",
       "      <th>...</th>\n",
       "      <td>...</td>\n",
       "      <td>...</td>\n",
       "      <td>...</td>\n",
       "      <td>...</td>\n",
       "      <td>...</td>\n",
       "      <td>...</td>\n",
       "      <td>...</td>\n",
       "      <td>...</td>\n",
       "    </tr>\n",
       "    <tr>\n",
       "      <th>99995</th>\n",
       "      <td>-0.886265</td>\n",
       "      <td>-0.519614</td>\n",
       "      <td>-0.687334</td>\n",
       "      <td>1.758730</td>\n",
       "      <td>-0.076263</td>\n",
       "      <td>-0.883917</td>\n",
       "      <td>-1.555883</td>\n",
       "      <td>-1.000762</td>\n",
       "    </tr>\n",
       "    <tr>\n",
       "      <th>99996</th>\n",
       "      <td>2.434018</td>\n",
       "      <td>-0.519614</td>\n",
       "      <td>2.101958</td>\n",
       "      <td>0.147004</td>\n",
       "      <td>0.796799</td>\n",
       "      <td>0.150972</td>\n",
       "      <td>-1.555883</td>\n",
       "      <td>0.226114</td>\n",
       "    </tr>\n",
       "    <tr>\n",
       "      <th>99997</th>\n",
       "      <td>0.694822</td>\n",
       "      <td>-0.519614</td>\n",
       "      <td>-0.034230</td>\n",
       "      <td>0.684246</td>\n",
       "      <td>-1.240346</td>\n",
       "      <td>-1.573843</td>\n",
       "      <td>1.010656</td>\n",
       "      <td>0.839552</td>\n",
       "    </tr>\n",
       "    <tr>\n",
       "      <th>99998</th>\n",
       "      <td>-0.174776</td>\n",
       "      <td>-0.519614</td>\n",
       "      <td>-0.331285</td>\n",
       "      <td>0.684246</td>\n",
       "      <td>1.669861</td>\n",
       "      <td>1.415836</td>\n",
       "      <td>1.010656</td>\n",
       "      <td>0.226114</td>\n",
       "    </tr>\n",
       "    <tr>\n",
       "      <th>99999</th>\n",
       "      <td>0.773876</td>\n",
       "      <td>-0.519614</td>\n",
       "      <td>-0.028992</td>\n",
       "      <td>1.221488</td>\n",
       "      <td>-0.658305</td>\n",
       "      <td>1.185861</td>\n",
       "      <td>1.010656</td>\n",
       "      <td>0.839552</td>\n",
       "    </tr>\n",
       "  </tbody>\n",
       "</table>\n",
       "<p>94881 rows × 8 columns</p>\n",
       "</div>"
      ],
      "text/plain": [
       "       fare_amount  passenger_count  H_Distance      Year     Month      Date  \\\n",
       "0        -0.823022         0.246187   -0.720492 -1.464722 -0.658305 -0.883917   \n",
       "1        -0.823022         0.246187   -0.745564  0.147004  0.214757  1.645812   \n",
       "2        -0.506804        -0.519614   -0.071708 -0.390238 -1.240346  0.725910   \n",
       "3         0.631579        -0.519614    0.896092 -0.927480  1.087820 -0.998905   \n",
       "4         0.315361         2.543591    0.774062 -1.464722  1.087820 -1.573843   \n",
       "...            ...              ...         ...       ...       ...       ...   \n",
       "99995    -0.886265        -0.519614   -0.687334  1.758730 -0.076263 -0.883917   \n",
       "99996     2.434018        -0.519614    2.101958  0.147004  0.796799  0.150972   \n",
       "99997     0.694822        -0.519614   -0.034230  0.684246 -1.240346 -1.573843   \n",
       "99998    -0.174776        -0.519614   -0.331285  0.684246  1.669861  1.415836   \n",
       "99999     0.773876        -0.519614   -0.028992  1.221488 -0.658305  1.185861   \n",
       "\n",
       "       Day of Week      Hour  \n",
       "0        -0.529267  0.839552  \n",
       "1        -1.555883  0.379473  \n",
       "2        -1.042575 -0.080605  \n",
       "3        -0.015960  1.146271  \n",
       "4         0.497348  1.299630  \n",
       "...            ...       ...  \n",
       "99995    -1.555883 -1.000762  \n",
       "99996    -1.555883  0.226114  \n",
       "99997     1.010656  0.839552  \n",
       "99998     1.010656  0.226114  \n",
       "99999     1.010656  0.839552  \n",
       "\n",
       "[94881 rows x 8 columns]"
      ]
     },
     "execution_count": 235,
     "metadata": {},
     "output_type": "execute_result"
    }
   ],
   "source": [
    "train"
   ]
  },
  {
   "cell_type": "code",
   "execution_count": 236,
   "metadata": {},
   "outputs": [],
   "source": [
    "from sklearn.model_selection import train_test_split\n",
    "x=train.drop(\"fare_amount\",axis=\"columns\")\n",
    "y=train['fare_amount']\n",
    "\n",
    "x_train,x_test,y_train,y_test=train_test_split(x,y,test_size=0.3,random_state=42)"
   ]
  },
  {
   "cell_type": "code",
   "execution_count": 237,
   "metadata": {},
   "outputs": [
    {
     "name": "stdout",
     "output_type": "stream",
     "text": [
      "Shape of x_train:  (66416, 7)\n",
      "Shape of x_test:  (28465, 7)\n",
      "Shape of y_train:  (66416,)\n",
      "Shape of y_test:  (28465,)\n"
     ]
    }
   ],
   "source": [
    "print(\"Shape of x_train: \",x_train.shape)\n",
    "print(\"Shape of x_test: \",x_test.shape)\n",
    "print(\"Shape of y_train: \",y_train.shape)\n",
    "print(\"Shape of y_test: \",y_test.shape)"
   ]
  },
  {
   "cell_type": "markdown",
   "metadata": {},
   "source": [
    "**Building Pipeline**"
   ]
  },
  {
   "cell_type": "code",
   "execution_count": 238,
   "metadata": {},
   "outputs": [],
   "source": [
    "# importing required Libraries\n",
    "from sklearn.\n",
    " import StandardScaler,OrdinalEncoder\n",
    "from sklearn.impute import SimpleImputer\n",
    "from sklearn.compose import ColumnTransformer\n",
    "from sklearn.pipeline import Pipeline"
   ]
  },
  {
   "cell_type": "code",
   "execution_count": 239,
   "metadata": {},
   "outputs": [],
   "source": [
    "numeric_transformer = Pipeline(steps=[\n",
    "       ('imputer', SimpleImputer(strategy='mean'))\n",
    "      ,('scaler', StandardScaler())])"
   ]
  },
  {
   "cell_type": "code",
   "execution_count": 240,
   "metadata": {},
   "outputs": [
    {
     "data": {
      "text/plain": [
       "['passenger_count',\n",
       " 'H_Distance',\n",
       " 'Year',\n",
       " 'Month',\n",
       " 'Date',\n",
       " 'Day of Week',\n",
       " 'Hour']"
      ]
     },
     "execution_count": 240,
     "metadata": {},
     "output_type": "execute_result"
    }
   ],
   "source": [
    "numeric_features=list(x.columns)\n",
    "numeric_features"
   ]
  },
  {
   "cell_type": "code",
   "execution_count": 241,
   "metadata": {},
   "outputs": [],
   "source": [
    "preprocessor = ColumnTransformer(\n",
    "   transformers=[\n",
    "    ('numeric', numeric_transformer, numeric_features)])"
   ]
  },
  {
   "cell_type": "code",
   "execution_count": 242,
   "metadata": {},
   "outputs": [],
   "source": [
    "from sklearn.linear_model import LinearRegression\n",
    "pipeline = Pipeline(steps = [\n",
    "               ('preprocessor', preprocessor)\n",
    "              ,('regressor',LinearRegression())\n",
    "           ])"
   ]
  },
  {
   "cell_type": "code",
   "execution_count": 243,
   "metadata": {},
   "outputs": [
    {
     "name": "stdout",
     "output_type": "stream",
     "text": [
      "Pipeline(steps=[('preprocessor',\n",
      "                 ColumnTransformer(transformers=[('numeric',\n",
      "                                                  Pipeline(steps=[('imputer',\n",
      "                                                                   SimpleImputer()),\n",
      "                                                                  ('scaler',\n",
      "                                                                   StandardScaler())]),\n",
      "                                                  ['passenger_count',\n",
      "                                                   'H_Distance', 'Year',\n",
      "                                                   'Month', 'Date',\n",
      "                                                   'Day of Week', 'Hour'])])),\n",
      "                ('regressor', LinearRegression())])\n"
     ]
    }
   ],
   "source": [
    "rf_model = pipeline.fit(x_train, y_train)\n",
    "print (rf_model)"
   ]
  },
  {
   "cell_type": "code",
   "execution_count": 244,
   "metadata": {},
   "outputs": [
    {
     "name": "stdout",
     "output_type": "stream",
     "text": [
      "Accuracy:  0.7705317147070985\n",
      "Mean Absolute Percentage Error: 5.756693303770089\n"
     ]
    }
   ],
   "source": [
    "predictions = rf_model.predict(x_test)\n",
    "print (\"Accuracy: \",r2_score(y_test, predictions))\n",
    "print(\"Mean Absolute Percentage Error:\",mean_absolute_percentage_error(y_test,predictions))"
   ]
  },
  {
   "cell_type": "markdown",
   "metadata": {},
   "source": [
    "* Using Linear Regression"
   ]
  },
  {
   "cell_type": "code",
   "execution_count": 245,
   "metadata": {},
   "outputs": [
    {
     "name": "stdout",
     "output_type": "stream",
     "text": [
      "Error:  0.23123467938765918\n",
      "Accuracy:  0.7705317147070985\n",
      "Mean Absolute percentage error:  5.75669330377009\n"
     ]
    }
   ],
   "source": [
    "from sklearn.linear_model import LinearRegression\n",
    "\n",
    "lr=LinearRegression()\n",
    "lr.fit(x_train,y_train)\n",
    "y_pred=lr.predict(x_test)\n",
    "\n",
    "from sklearn.metrics import mean_squared_error,mean_absolute_percentage_error,\n",
    "\n",
    "print(\"Error: \",mean_squared_error(y_test,y_pred))\n",
    "print(\"Accuracy: \",lr.score(x_test,y_test))\n",
    "print(\"Mean Absolute percentage error: \",mean_absolute_percentage_error(y_test,y_pred))"
   ]
  },
  {
   "cell_type": "markdown",
   "metadata": {},
   "source": [
    "* Stochastic Gradient Descent Regression"
   ]
  },
  {
   "cell_type": "code",
   "execution_count": 246,
   "metadata": {},
   "outputs": [
    {
     "name": "stdout",
     "output_type": "stream",
     "text": [
      "Accuracy:  0.7690631602076234\n",
      "Mean Absolute Percentage Error:  5.873603387829168\n"
     ]
    }
   ],
   "source": [
    "from sklearn.linear_model import SGDRegressor\n",
    "model_sgd=SGDRegressor()\n",
    "model_sgd.fit(x_train,y_train)\n",
    "y_pre=model_sgd.predict(x_test)\n",
    "\n",
    "print(\"Accuracy: \",model_sgd.score(x_train,y_train))\n",
    "print(\"Mean Absolute Percentage Error: \",mean_absolute_percentage_error(y_test,y_pre))"
   ]
  },
  {
   "cell_type": "markdown",
   "metadata": {},
   "source": [
    "* K-FOLD CROSS VALIDATION"
   ]
  },
  {
   "cell_type": "code",
   "execution_count": 247,
   "metadata": {},
   "outputs": [
    {
     "data": {
      "text/html": [
       "<div>\n",
       "<style scoped>\n",
       "    .dataframe tbody tr th:only-of-type {\n",
       "        vertical-align: middle;\n",
       "    }\n",
       "\n",
       "    .dataframe tbody tr th {\n",
       "        vertical-align: top;\n",
       "    }\n",
       "\n",
       "    .dataframe thead th {\n",
       "        text-align: right;\n",
       "    }\n",
       "</style>\n",
       "<table border=\"1\" class=\"dataframe\">\n",
       "  <thead>\n",
       "    <tr style=\"text-align: right;\">\n",
       "      <th></th>\n",
       "      <th>fare_amount</th>\n",
       "      <th>passenger_count</th>\n",
       "      <th>H_Distance</th>\n",
       "      <th>Year</th>\n",
       "      <th>Month</th>\n",
       "      <th>Date</th>\n",
       "      <th>Day of Week</th>\n",
       "      <th>Hour</th>\n",
       "    </tr>\n",
       "  </thead>\n",
       "  <tbody>\n",
       "    <tr>\n",
       "      <th>0</th>\n",
       "      <td>-0.823022</td>\n",
       "      <td>0.246187</td>\n",
       "      <td>-0.720492</td>\n",
       "      <td>-1.464722</td>\n",
       "      <td>-0.658305</td>\n",
       "      <td>-0.883917</td>\n",
       "      <td>-0.529267</td>\n",
       "      <td>0.839552</td>\n",
       "    </tr>\n",
       "    <tr>\n",
       "      <th>1</th>\n",
       "      <td>-0.823022</td>\n",
       "      <td>0.246187</td>\n",
       "      <td>-0.745564</td>\n",
       "      <td>0.147004</td>\n",
       "      <td>0.214757</td>\n",
       "      <td>1.645812</td>\n",
       "      <td>-1.555883</td>\n",
       "      <td>0.379473</td>\n",
       "    </tr>\n",
       "    <tr>\n",
       "      <th>2</th>\n",
       "      <td>-0.506804</td>\n",
       "      <td>-0.519614</td>\n",
       "      <td>-0.071708</td>\n",
       "      <td>-0.390238</td>\n",
       "      <td>-1.240346</td>\n",
       "      <td>0.725910</td>\n",
       "      <td>-1.042575</td>\n",
       "      <td>-0.080605</td>\n",
       "    </tr>\n",
       "    <tr>\n",
       "      <th>3</th>\n",
       "      <td>0.631579</td>\n",
       "      <td>-0.519614</td>\n",
       "      <td>0.896092</td>\n",
       "      <td>-0.927480</td>\n",
       "      <td>1.087820</td>\n",
       "      <td>-0.998905</td>\n",
       "      <td>-0.015960</td>\n",
       "      <td>1.146271</td>\n",
       "    </tr>\n",
       "    <tr>\n",
       "      <th>4</th>\n",
       "      <td>0.315361</td>\n",
       "      <td>2.543591</td>\n",
       "      <td>0.774062</td>\n",
       "      <td>-1.464722</td>\n",
       "      <td>1.087820</td>\n",
       "      <td>-1.573843</td>\n",
       "      <td>0.497348</td>\n",
       "      <td>1.299630</td>\n",
       "    </tr>\n",
       "    <tr>\n",
       "      <th>...</th>\n",
       "      <td>...</td>\n",
       "      <td>...</td>\n",
       "      <td>...</td>\n",
       "      <td>...</td>\n",
       "      <td>...</td>\n",
       "      <td>...</td>\n",
       "      <td>...</td>\n",
       "      <td>...</td>\n",
       "    </tr>\n",
       "    <tr>\n",
       "      <th>99995</th>\n",
       "      <td>-0.886265</td>\n",
       "      <td>-0.519614</td>\n",
       "      <td>-0.687334</td>\n",
       "      <td>1.758730</td>\n",
       "      <td>-0.076263</td>\n",
       "      <td>-0.883917</td>\n",
       "      <td>-1.555883</td>\n",
       "      <td>-1.000762</td>\n",
       "    </tr>\n",
       "    <tr>\n",
       "      <th>99996</th>\n",
       "      <td>2.434018</td>\n",
       "      <td>-0.519614</td>\n",
       "      <td>2.101958</td>\n",
       "      <td>0.147004</td>\n",
       "      <td>0.796799</td>\n",
       "      <td>0.150972</td>\n",
       "      <td>-1.555883</td>\n",
       "      <td>0.226114</td>\n",
       "    </tr>\n",
       "    <tr>\n",
       "      <th>99997</th>\n",
       "      <td>0.694822</td>\n",
       "      <td>-0.519614</td>\n",
       "      <td>-0.034230</td>\n",
       "      <td>0.684246</td>\n",
       "      <td>-1.240346</td>\n",
       "      <td>-1.573843</td>\n",
       "      <td>1.010656</td>\n",
       "      <td>0.839552</td>\n",
       "    </tr>\n",
       "    <tr>\n",
       "      <th>99998</th>\n",
       "      <td>-0.174776</td>\n",
       "      <td>-0.519614</td>\n",
       "      <td>-0.331285</td>\n",
       "      <td>0.684246</td>\n",
       "      <td>1.669861</td>\n",
       "      <td>1.415836</td>\n",
       "      <td>1.010656</td>\n",
       "      <td>0.226114</td>\n",
       "    </tr>\n",
       "    <tr>\n",
       "      <th>99999</th>\n",
       "      <td>0.773876</td>\n",
       "      <td>-0.519614</td>\n",
       "      <td>-0.028992</td>\n",
       "      <td>1.221488</td>\n",
       "      <td>-0.658305</td>\n",
       "      <td>1.185861</td>\n",
       "      <td>1.010656</td>\n",
       "      <td>0.839552</td>\n",
       "    </tr>\n",
       "  </tbody>\n",
       "</table>\n",
       "<p>94881 rows × 8 columns</p>\n",
       "</div>"
      ],
      "text/plain": [
       "       fare_amount  passenger_count  H_Distance      Year     Month      Date  \\\n",
       "0        -0.823022         0.246187   -0.720492 -1.464722 -0.658305 -0.883917   \n",
       "1        -0.823022         0.246187   -0.745564  0.147004  0.214757  1.645812   \n",
       "2        -0.506804        -0.519614   -0.071708 -0.390238 -1.240346  0.725910   \n",
       "3         0.631579        -0.519614    0.896092 -0.927480  1.087820 -0.998905   \n",
       "4         0.315361         2.543591    0.774062 -1.464722  1.087820 -1.573843   \n",
       "...            ...              ...         ...       ...       ...       ...   \n",
       "99995    -0.886265        -0.519614   -0.687334  1.758730 -0.076263 -0.883917   \n",
       "99996     2.434018        -0.519614    2.101958  0.147004  0.796799  0.150972   \n",
       "99997     0.694822        -0.519614   -0.034230  0.684246 -1.240346 -1.573843   \n",
       "99998    -0.174776        -0.519614   -0.331285  0.684246  1.669861  1.415836   \n",
       "99999     0.773876        -0.519614   -0.028992  1.221488 -0.658305  1.185861   \n",
       "\n",
       "       Day of Week      Hour  \n",
       "0        -0.529267  0.839552  \n",
       "1        -1.555883  0.379473  \n",
       "2        -1.042575 -0.080605  \n",
       "3        -0.015960  1.146271  \n",
       "4         0.497348  1.299630  \n",
       "...            ...       ...  \n",
       "99995    -1.555883 -1.000762  \n",
       "99996    -1.555883  0.226114  \n",
       "99997     1.010656  0.839552  \n",
       "99998     1.010656  0.226114  \n",
       "99999     1.010656  0.839552  \n",
       "\n",
       "[94881 rows x 8 columns]"
      ]
     },
     "execution_count": 247,
     "metadata": {},
     "output_type": "execute_result"
    }
   ],
   "source": [
    "train"
   ]
  },
  {
   "cell_type": "code",
   "execution_count": 248,
   "metadata": {},
   "outputs": [
    {
     "data": {
      "text/plain": [
       "(94881, 8)"
      ]
     },
     "execution_count": 248,
     "metadata": {},
     "output_type": "execute_result"
    }
   ],
   "source": [
    "train.shape"
   ]
  },
  {
   "cell_type": "code",
   "execution_count": 249,
   "metadata": {},
   "outputs": [],
   "source": [
    "k=5 #Splitting DataSet into 5 Folds"
   ]
  },
  {
   "cell_type": "code",
   "execution_count": 250,
   "metadata": {},
   "outputs": [],
   "source": [
    "train_1,train_2,train_3,train_4,train_5=(train[0:18971],train[18971:37942],train[37942:56915],train[56915:75886],train[75886:94856])"
   ]
  },
  {
   "cell_type": "code",
   "execution_count": 251,
   "metadata": {},
   "outputs": [
    {
     "name": "stdout",
     "output_type": "stream",
     "text": [
      "(18971, 8) (18971, 8) (18973, 8) (18971, 8) (18970, 8)\n"
     ]
    }
   ],
   "source": [
    "print(train_1.shape,train_2.shape,train_3.shape,train_4.shape,train_5.shape)"
   ]
  },
  {
   "cell_type": "code",
   "execution_count": 252,
   "metadata": {},
   "outputs": [
    {
     "data": {
      "text/html": [
       "<div>\n",
       "<style scoped>\n",
       "    .dataframe tbody tr th:only-of-type {\n",
       "        vertical-align: middle;\n",
       "    }\n",
       "\n",
       "    .dataframe tbody tr th {\n",
       "        vertical-align: top;\n",
       "    }\n",
       "\n",
       "    .dataframe thead th {\n",
       "        text-align: right;\n",
       "    }\n",
       "</style>\n",
       "<table border=\"1\" class=\"dataframe\">\n",
       "  <thead>\n",
       "    <tr style=\"text-align: right;\">\n",
       "      <th></th>\n",
       "      <th>fare_amount</th>\n",
       "      <th>passenger_count</th>\n",
       "      <th>H_Distance</th>\n",
       "      <th>Year</th>\n",
       "      <th>Month</th>\n",
       "      <th>Date</th>\n",
       "      <th>Day of Week</th>\n",
       "      <th>Hour</th>\n",
       "    </tr>\n",
       "  </thead>\n",
       "  <tbody>\n",
       "    <tr>\n",
       "      <th>0</th>\n",
       "      <td>-0.823022</td>\n",
       "      <td>0.246187</td>\n",
       "      <td>-0.720492</td>\n",
       "      <td>-1.464722</td>\n",
       "      <td>-0.658305</td>\n",
       "      <td>-0.883917</td>\n",
       "      <td>-0.529267</td>\n",
       "      <td>0.839552</td>\n",
       "    </tr>\n",
       "    <tr>\n",
       "      <th>1</th>\n",
       "      <td>-0.823022</td>\n",
       "      <td>0.246187</td>\n",
       "      <td>-0.745564</td>\n",
       "      <td>0.147004</td>\n",
       "      <td>0.214757</td>\n",
       "      <td>1.645812</td>\n",
       "      <td>-1.555883</td>\n",
       "      <td>0.379473</td>\n",
       "    </tr>\n",
       "    <tr>\n",
       "      <th>2</th>\n",
       "      <td>-0.506804</td>\n",
       "      <td>-0.519614</td>\n",
       "      <td>-0.071708</td>\n",
       "      <td>-0.390238</td>\n",
       "      <td>-1.240346</td>\n",
       "      <td>0.725910</td>\n",
       "      <td>-1.042575</td>\n",
       "      <td>-0.080605</td>\n",
       "    </tr>\n",
       "    <tr>\n",
       "      <th>3</th>\n",
       "      <td>0.631579</td>\n",
       "      <td>-0.519614</td>\n",
       "      <td>0.896092</td>\n",
       "      <td>-0.927480</td>\n",
       "      <td>1.087820</td>\n",
       "      <td>-0.998905</td>\n",
       "      <td>-0.015960</td>\n",
       "      <td>1.146271</td>\n",
       "    </tr>\n",
       "    <tr>\n",
       "      <th>4</th>\n",
       "      <td>0.315361</td>\n",
       "      <td>2.543591</td>\n",
       "      <td>0.774062</td>\n",
       "      <td>-1.464722</td>\n",
       "      <td>1.087820</td>\n",
       "      <td>-1.573843</td>\n",
       "      <td>0.497348</td>\n",
       "      <td>1.299630</td>\n",
       "    </tr>\n",
       "    <tr>\n",
       "      <th>...</th>\n",
       "      <td>...</td>\n",
       "      <td>...</td>\n",
       "      <td>...</td>\n",
       "      <td>...</td>\n",
       "      <td>...</td>\n",
       "      <td>...</td>\n",
       "      <td>...</td>\n",
       "      <td>...</td>\n",
       "    </tr>\n",
       "    <tr>\n",
       "      <th>19998</th>\n",
       "      <td>-0.127343</td>\n",
       "      <td>-0.519614</td>\n",
       "      <td>0.326117</td>\n",
       "      <td>-0.390238</td>\n",
       "      <td>0.214757</td>\n",
       "      <td>-1.343868</td>\n",
       "      <td>-1.555883</td>\n",
       "      <td>0.686192</td>\n",
       "    </tr>\n",
       "    <tr>\n",
       "      <th>19999</th>\n",
       "      <td>0.252118</td>\n",
       "      <td>-0.519614</td>\n",
       "      <td>0.721347</td>\n",
       "      <td>0.147004</td>\n",
       "      <td>-0.076263</td>\n",
       "      <td>0.150972</td>\n",
       "      <td>1.523964</td>\n",
       "      <td>-0.080605</td>\n",
       "    </tr>\n",
       "    <tr>\n",
       "      <th>20000</th>\n",
       "      <td>0.252118</td>\n",
       "      <td>1.011988</td>\n",
       "      <td>-0.168753</td>\n",
       "      <td>-0.390238</td>\n",
       "      <td>-0.949326</td>\n",
       "      <td>0.955886</td>\n",
       "      <td>-0.015960</td>\n",
       "      <td>-0.540683</td>\n",
       "    </tr>\n",
       "    <tr>\n",
       "      <th>20001</th>\n",
       "      <td>0.062387</td>\n",
       "      <td>-0.519614</td>\n",
       "      <td>-0.366841</td>\n",
       "      <td>0.684246</td>\n",
       "      <td>-0.949326</td>\n",
       "      <td>0.610923</td>\n",
       "      <td>-0.015960</td>\n",
       "      <td>-0.694043</td>\n",
       "    </tr>\n",
       "    <tr>\n",
       "      <th>20002</th>\n",
       "      <td>0.615768</td>\n",
       "      <td>-0.519614</td>\n",
       "      <td>0.061769</td>\n",
       "      <td>0.684246</td>\n",
       "      <td>0.505778</td>\n",
       "      <td>-0.883917</td>\n",
       "      <td>-0.015960</td>\n",
       "      <td>-0.694043</td>\n",
       "    </tr>\n",
       "  </tbody>\n",
       "</table>\n",
       "<p>18971 rows × 8 columns</p>\n",
       "</div>"
      ],
      "text/plain": [
       "       fare_amount  passenger_count  H_Distance      Year     Month      Date  \\\n",
       "0        -0.823022         0.246187   -0.720492 -1.464722 -0.658305 -0.883917   \n",
       "1        -0.823022         0.246187   -0.745564  0.147004  0.214757  1.645812   \n",
       "2        -0.506804        -0.519614   -0.071708 -0.390238 -1.240346  0.725910   \n",
       "3         0.631579        -0.519614    0.896092 -0.927480  1.087820 -0.998905   \n",
       "4         0.315361         2.543591    0.774062 -1.464722  1.087820 -1.573843   \n",
       "...            ...              ...         ...       ...       ...       ...   \n",
       "19998    -0.127343        -0.519614    0.326117 -0.390238  0.214757 -1.343868   \n",
       "19999     0.252118        -0.519614    0.721347  0.147004 -0.076263  0.150972   \n",
       "20000     0.252118         1.011988   -0.168753 -0.390238 -0.949326  0.955886   \n",
       "20001     0.062387        -0.519614   -0.366841  0.684246 -0.949326  0.610923   \n",
       "20002     0.615768        -0.519614    0.061769  0.684246  0.505778 -0.883917   \n",
       "\n",
       "       Day of Week      Hour  \n",
       "0        -0.529267  0.839552  \n",
       "1        -1.555883  0.379473  \n",
       "2        -1.042575 -0.080605  \n",
       "3        -0.015960  1.146271  \n",
       "4         0.497348  1.299630  \n",
       "...            ...       ...  \n",
       "19998    -1.555883  0.686192  \n",
       "19999     1.523964 -0.080605  \n",
       "20000    -0.015960 -0.540683  \n",
       "20001    -0.015960 -0.694043  \n",
       "20002    -0.015960 -0.694043  \n",
       "\n",
       "[18971 rows x 8 columns]"
      ]
     },
     "execution_count": 252,
     "metadata": {},
     "output_type": "execute_result"
    }
   ],
   "source": [
    "train_1"
   ]
  },
  {
   "cell_type": "markdown",
   "metadata": {},
   "source": [
    "Iteration 1"
   ]
  },
  {
   "cell_type": "code",
   "execution_count": 253,
   "metadata": {},
   "outputs": [
    {
     "data": {
      "text/plain": [
       "0.7772008615766742"
      ]
     },
     "execution_count": 253,
     "metadata": {},
     "output_type": "execute_result"
    }
   ],
   "source": [
    "test_0=train_1\n",
    "train_cross=pd.concat([train_2,train_3,train_4,train_5])\n",
    "x_cross_train=train_cross.drop('fare_amount',axis=\"columns\")\n",
    "y_cross_train=train_cross['fare_amount']\n",
    "\n",
    "x_cross_test=test_0.drop('fare_amount',axis=\"columns\")\n",
    "y_cross_test=test_0['fare_amount']\n",
    "cross_1=LinearRegression()\n",
    "cross_1.fit(x_cross_train,y_cross_train)\n",
    "\n",
    "prediction=cross_1.predict(x_cross_test)\n",
    "cross_1.score(x_cross_test,y_cross_test)"
   ]
  },
  {
   "cell_type": "markdown",
   "metadata": {},
   "source": [
    "Iteration 2"
   ]
  },
  {
   "cell_type": "code",
   "execution_count": 254,
   "metadata": {},
   "outputs": [
    {
     "data": {
      "text/plain": [
       "0.7615792558232096"
      ]
     },
     "execution_count": 254,
     "metadata": {},
     "output_type": "execute_result"
    }
   ],
   "source": [
    "test_0=train_2\n",
    "train_cross=pd.concat([train_1,train_3,train_4,train_5])\n",
    "x_cross_train=train_cross.drop('fare_amount',axis=\"columns\")\n",
    "y_cross_train=train_cross['fare_amount']\n",
    "\n",
    "x_cross_test=test_0.drop('fare_amount',axis=\"columns\")\n",
    "y_cross_test=test_0['fare_amount']\n",
    "cross_2=LinearRegression()\n",
    "cross_2.fit(x_cross_train,y_cross_train)\n",
    "\n",
    "prediction=cross_2.predict(x_cross_test)\n",
    "cross_2.score(x_cross_test,y_cross_test)"
   ]
  },
  {
   "cell_type": "markdown",
   "metadata": {},
   "source": [
    "Iteration 3"
   ]
  },
  {
   "cell_type": "code",
   "execution_count": 255,
   "metadata": {},
   "outputs": [
    {
     "data": {
      "text/plain": [
       "0.7730988439026474"
      ]
     },
     "execution_count": 255,
     "metadata": {},
     "output_type": "execute_result"
    }
   ],
   "source": [
    "test_0=train_3\n",
    "train_cross=pd.concat([train_1,train_2,train_4,train_5])\n",
    "x_cross_train=train_cross.drop('fare_amount',axis=\"columns\")\n",
    "y_cross_train=train_cross['fare_amount']\n",
    "\n",
    "x_cross_test=test_0.drop('fare_amount',axis=\"columns\")\n",
    "y_cross_test=test_0['fare_amount']\n",
    "cross_3=LinearRegression()\n",
    "cross_3.fit(x_cross_train,y_cross_train)\n",
    "\n",
    "prediction=cross_3.predict(x_cross_test)\n",
    "cross_3.score(x_cross_test,y_cross_test)"
   ]
  },
  {
   "cell_type": "markdown",
   "metadata": {},
   "source": [
    "Iteration 4"
   ]
  },
  {
   "cell_type": "code",
   "execution_count": 256,
   "metadata": {},
   "outputs": [
    {
     "data": {
      "text/plain": [
       "0.7639934487309642"
      ]
     },
     "execution_count": 256,
     "metadata": {},
     "output_type": "execute_result"
    }
   ],
   "source": [
    "test_0=train_4\n",
    "train_cross=pd.concat([train_1,train_2,train_4,train_5])\n",
    "x_cross_train=train_cross.drop('fare_amount',axis=\"columns\")\n",
    "y_cross_train=train_cross['fare_amount']\n",
    "\n",
    "x_cross_test=test_0.drop('fare_amount',axis=\"columns\")\n",
    "y_cross_test=test_0['fare_amount']\n",
    "cross_4=LinearRegression()\n",
    "cross_4.fit(x_cross_train,y_cross_train)\n",
    "\n",
    "prediction=cross_4.predict(x_cross_test)\n",
    "cross_4.score(x_cross_test,y_cross_test)"
   ]
  },
  {
   "cell_type": "markdown",
   "metadata": {},
   "source": [
    "Iteration 5"
   ]
  },
  {
   "cell_type": "code",
   "execution_count": 257,
   "metadata": {},
   "outputs": [
    {
     "data": {
      "text/plain": [
       "0.7730889343526095"
      ]
     },
     "execution_count": 257,
     "metadata": {},
     "output_type": "execute_result"
    }
   ],
   "source": [
    "test_0=train_5\n",
    "train_cross=pd.concat([train_1,train_2,train_4,train_5])\n",
    "x_cross_train=train_cross.drop('fare_amount',axis=\"columns\")\n",
    "y_cross_train=train_cross['fare_amount']\n",
    "\n",
    "x_cross_test=test_0.drop('fare_amount',axis=\"columns\")\n",
    "y_cross_test=test_0['fare_amount']\n",
    "cross_5=LinearRegression()\n",
    "cross_5.fit(x_cross_train,y_cross_train)\n",
    "\n",
    "prediction=cross_5.predict(x_cross_test)\n",
    "cross_5.score(x_cross_test,y_cross_test)"
   ]
  },
  {
   "cell_type": "markdown",
   "metadata": {},
   "source": [
    "Cross_1 gives more accuracy than others"
   ]
  },
  {
   "cell_type": "code",
   "execution_count": 258,
   "metadata": {},
   "outputs": [
    {
     "data": {
      "text/html": [
       "<div>\n",
       "<style scoped>\n",
       "    .dataframe tbody tr th:only-of-type {\n",
       "        vertical-align: middle;\n",
       "    }\n",
       "\n",
       "    .dataframe tbody tr th {\n",
       "        vertical-align: top;\n",
       "    }\n",
       "\n",
       "    .dataframe thead th {\n",
       "        text-align: right;\n",
       "    }\n",
       "</style>\n",
       "<table border=\"1\" class=\"dataframe\">\n",
       "  <thead>\n",
       "    <tr style=\"text-align: right;\">\n",
       "      <th></th>\n",
       "      <th>passenger_count</th>\n",
       "      <th>H_Distance</th>\n",
       "      <th>Year</th>\n",
       "      <th>Month</th>\n",
       "      <th>Date</th>\n",
       "      <th>Day of Week</th>\n",
       "      <th>Hour</th>\n",
       "    </tr>\n",
       "  </thead>\n",
       "  <tbody>\n",
       "    <tr>\n",
       "      <th>0</th>\n",
       "      <td>1</td>\n",
       "      <td>2.323260</td>\n",
       "      <td>2015</td>\n",
       "      <td>1</td>\n",
       "      <td>27</td>\n",
       "      <td>1</td>\n",
       "      <td>13</td>\n",
       "    </tr>\n",
       "    <tr>\n",
       "      <th>1</th>\n",
       "      <td>1</td>\n",
       "      <td>2.425353</td>\n",
       "      <td>2015</td>\n",
       "      <td>1</td>\n",
       "      <td>27</td>\n",
       "      <td>1</td>\n",
       "      <td>13</td>\n",
       "    </tr>\n",
       "    <tr>\n",
       "      <th>2</th>\n",
       "      <td>1</td>\n",
       "      <td>0.618628</td>\n",
       "      <td>2011</td>\n",
       "      <td>10</td>\n",
       "      <td>8</td>\n",
       "      <td>5</td>\n",
       "      <td>11</td>\n",
       "    </tr>\n",
       "    <tr>\n",
       "      <th>3</th>\n",
       "      <td>1</td>\n",
       "      <td>1.961033</td>\n",
       "      <td>2012</td>\n",
       "      <td>12</td>\n",
       "      <td>1</td>\n",
       "      <td>5</td>\n",
       "      <td>21</td>\n",
       "    </tr>\n",
       "    <tr>\n",
       "      <th>4</th>\n",
       "      <td>1</td>\n",
       "      <td>5.387301</td>\n",
       "      <td>2012</td>\n",
       "      <td>12</td>\n",
       "      <td>1</td>\n",
       "      <td>5</td>\n",
       "      <td>21</td>\n",
       "    </tr>\n",
       "    <tr>\n",
       "      <th>...</th>\n",
       "      <td>...</td>\n",
       "      <td>...</td>\n",
       "      <td>...</td>\n",
       "      <td>...</td>\n",
       "      <td>...</td>\n",
       "      <td>...</td>\n",
       "      <td>...</td>\n",
       "    </tr>\n",
       "    <tr>\n",
       "      <th>9909</th>\n",
       "      <td>6</td>\n",
       "      <td>2.124874</td>\n",
       "      <td>2015</td>\n",
       "      <td>5</td>\n",
       "      <td>10</td>\n",
       "      <td>6</td>\n",
       "      <td>12</td>\n",
       "    </tr>\n",
       "    <tr>\n",
       "      <th>9910</th>\n",
       "      <td>6</td>\n",
       "      <td>3.270969</td>\n",
       "      <td>2015</td>\n",
       "      <td>1</td>\n",
       "      <td>12</td>\n",
       "      <td>0</td>\n",
       "      <td>17</td>\n",
       "    </tr>\n",
       "    <tr>\n",
       "      <th>9911</th>\n",
       "      <td>6</td>\n",
       "      <td>19.183941</td>\n",
       "      <td>2015</td>\n",
       "      <td>4</td>\n",
       "      <td>19</td>\n",
       "      <td>6</td>\n",
       "      <td>20</td>\n",
       "    </tr>\n",
       "    <tr>\n",
       "      <th>9912</th>\n",
       "      <td>6</td>\n",
       "      <td>8.343486</td>\n",
       "      <td>2015</td>\n",
       "      <td>1</td>\n",
       "      <td>31</td>\n",
       "      <td>5</td>\n",
       "      <td>1</td>\n",
       "    </tr>\n",
       "    <tr>\n",
       "      <th>9913</th>\n",
       "      <td>6</td>\n",
       "      <td>1.180825</td>\n",
       "      <td>2015</td>\n",
       "      <td>1</td>\n",
       "      <td>18</td>\n",
       "      <td>6</td>\n",
       "      <td>14</td>\n",
       "    </tr>\n",
       "  </tbody>\n",
       "</table>\n",
       "<p>9914 rows × 7 columns</p>\n",
       "</div>"
      ],
      "text/plain": [
       "      passenger_count  H_Distance  Year  Month  Date  Day of Week  Hour\n",
       "0                   1    2.323260  2015      1    27            1    13\n",
       "1                   1    2.425353  2015      1    27            1    13\n",
       "2                   1    0.618628  2011     10     8            5    11\n",
       "3                   1    1.961033  2012     12     1            5    21\n",
       "4                   1    5.387301  2012     12     1            5    21\n",
       "...               ...         ...   ...    ...   ...          ...   ...\n",
       "9909                6    2.124874  2015      5    10            6    12\n",
       "9910                6    3.270969  2015      1    12            0    17\n",
       "9911                6   19.183941  2015      4    19            6    20\n",
       "9912                6    8.343486  2015      1    31            5     1\n",
       "9913                6    1.180825  2015      1    18            6    14\n",
       "\n",
       "[9914 rows x 7 columns]"
      ]
     },
     "execution_count": 258,
     "metadata": {},
     "output_type": "execute_result"
    }
   ],
   "source": [
    "test"
   ]
  },
  {
   "cell_type": "code",
   "execution_count": 259,
   "metadata": {},
   "outputs": [
    {
     "data": {
      "text/html": [
       "<div>\n",
       "<style scoped>\n",
       "    .dataframe tbody tr th:only-of-type {\n",
       "        vertical-align: middle;\n",
       "    }\n",
       "\n",
       "    .dataframe tbody tr th {\n",
       "        vertical-align: top;\n",
       "    }\n",
       "\n",
       "    .dataframe thead th {\n",
       "        text-align: right;\n",
       "    }\n",
       "</style>\n",
       "<table border=\"1\" class=\"dataframe\">\n",
       "  <thead>\n",
       "    <tr style=\"text-align: right;\">\n",
       "      <th></th>\n",
       "      <th>Predicted_Fare</th>\n",
       "    </tr>\n",
       "  </thead>\n",
       "  <tbody>\n",
       "    <tr>\n",
       "      <th>0</th>\n",
       "      <td>264.606998</td>\n",
       "    </tr>\n",
       "    <tr>\n",
       "      <th>1</th>\n",
       "      <td>264.695463</td>\n",
       "    </tr>\n",
       "    <tr>\n",
       "      <th>2</th>\n",
       "      <td>262.856588</td>\n",
       "    </tr>\n",
       "    <tr>\n",
       "      <th>3</th>\n",
       "      <td>264.367367</td>\n",
       "    </tr>\n",
       "    <tr>\n",
       "      <th>4</th>\n",
       "      <td>267.336236</td>\n",
       "    </tr>\n",
       "    <tr>\n",
       "      <th>...</th>\n",
       "      <td>...</td>\n",
       "    </tr>\n",
       "    <tr>\n",
       "      <th>9909</th>\n",
       "      <td>264.529111</td>\n",
       "    </tr>\n",
       "    <tr>\n",
       "      <th>9910</th>\n",
       "      <td>265.523987</td>\n",
       "    </tr>\n",
       "    <tr>\n",
       "      <th>9911</th>\n",
       "      <td>279.390660</td>\n",
       "    </tr>\n",
       "    <tr>\n",
       "      <th>9912</th>\n",
       "      <td>269.625742</td>\n",
       "    </tr>\n",
       "    <tr>\n",
       "      <th>9913</th>\n",
       "      <td>263.595181</td>\n",
       "    </tr>\n",
       "  </tbody>\n",
       "</table>\n",
       "<p>9914 rows × 1 columns</p>\n",
       "</div>"
      ],
      "text/plain": [
       "      Predicted_Fare\n",
       "0         264.606998\n",
       "1         264.695463\n",
       "2         262.856588\n",
       "3         264.367367\n",
       "4         267.336236\n",
       "...              ...\n",
       "9909      264.529111\n",
       "9910      265.523987\n",
       "9911      279.390660\n",
       "9912      269.625742\n",
       "9913      263.595181\n",
       "\n",
       "[9914 rows x 1 columns]"
      ]
     },
     "execution_count": 259,
     "metadata": {},
     "output_type": "execute_result"
    }
   ],
   "source": [
    "f=cross_1.predict(test)\n",
    "z=pd.DataFrame({\"Predicted_Fare\":f})\n",
    "z\n"
   ]
  },
  {
   "cell_type": "code",
   "execution_count": 260,
   "metadata": {},
   "outputs": [
    {
     "data": {
      "text/html": [
       "<div>\n",
       "<style scoped>\n",
       "    .dataframe tbody tr th:only-of-type {\n",
       "        vertical-align: middle;\n",
       "    }\n",
       "\n",
       "    .dataframe tbody tr th {\n",
       "        vertical-align: top;\n",
       "    }\n",
       "\n",
       "    .dataframe thead th {\n",
       "        text-align: right;\n",
       "    }\n",
       "</style>\n",
       "<table border=\"1\" class=\"dataframe\">\n",
       "  <thead>\n",
       "    <tr style=\"text-align: right;\">\n",
       "      <th></th>\n",
       "      <th>passenger_count</th>\n",
       "      <th>H_Distance</th>\n",
       "      <th>Year</th>\n",
       "      <th>Month</th>\n",
       "      <th>Date</th>\n",
       "      <th>Day of Week</th>\n",
       "      <th>Hour</th>\n",
       "      <th>Predicted_Fare</th>\n",
       "    </tr>\n",
       "  </thead>\n",
       "  <tbody>\n",
       "    <tr>\n",
       "      <th>0</th>\n",
       "      <td>1</td>\n",
       "      <td>2.323260</td>\n",
       "      <td>2015</td>\n",
       "      <td>1</td>\n",
       "      <td>27</td>\n",
       "      <td>1</td>\n",
       "      <td>13</td>\n",
       "      <td>264.606998</td>\n",
       "    </tr>\n",
       "    <tr>\n",
       "      <th>1</th>\n",
       "      <td>1</td>\n",
       "      <td>2.425353</td>\n",
       "      <td>2015</td>\n",
       "      <td>1</td>\n",
       "      <td>27</td>\n",
       "      <td>1</td>\n",
       "      <td>13</td>\n",
       "      <td>264.695463</td>\n",
       "    </tr>\n",
       "    <tr>\n",
       "      <th>2</th>\n",
       "      <td>1</td>\n",
       "      <td>0.618628</td>\n",
       "      <td>2011</td>\n",
       "      <td>10</td>\n",
       "      <td>8</td>\n",
       "      <td>5</td>\n",
       "      <td>11</td>\n",
       "      <td>262.856588</td>\n",
       "    </tr>\n",
       "    <tr>\n",
       "      <th>3</th>\n",
       "      <td>1</td>\n",
       "      <td>1.961033</td>\n",
       "      <td>2012</td>\n",
       "      <td>12</td>\n",
       "      <td>1</td>\n",
       "      <td>5</td>\n",
       "      <td>21</td>\n",
       "      <td>264.367367</td>\n",
       "    </tr>\n",
       "    <tr>\n",
       "      <th>4</th>\n",
       "      <td>1</td>\n",
       "      <td>5.387301</td>\n",
       "      <td>2012</td>\n",
       "      <td>12</td>\n",
       "      <td>1</td>\n",
       "      <td>5</td>\n",
       "      <td>21</td>\n",
       "      <td>267.336236</td>\n",
       "    </tr>\n",
       "    <tr>\n",
       "      <th>...</th>\n",
       "      <td>...</td>\n",
       "      <td>...</td>\n",
       "      <td>...</td>\n",
       "      <td>...</td>\n",
       "      <td>...</td>\n",
       "      <td>...</td>\n",
       "      <td>...</td>\n",
       "      <td>...</td>\n",
       "    </tr>\n",
       "    <tr>\n",
       "      <th>9909</th>\n",
       "      <td>6</td>\n",
       "      <td>2.124874</td>\n",
       "      <td>2015</td>\n",
       "      <td>5</td>\n",
       "      <td>10</td>\n",
       "      <td>6</td>\n",
       "      <td>12</td>\n",
       "      <td>264.529111</td>\n",
       "    </tr>\n",
       "    <tr>\n",
       "      <th>9910</th>\n",
       "      <td>6</td>\n",
       "      <td>3.270969</td>\n",
       "      <td>2015</td>\n",
       "      <td>1</td>\n",
       "      <td>12</td>\n",
       "      <td>0</td>\n",
       "      <td>17</td>\n",
       "      <td>265.523987</td>\n",
       "    </tr>\n",
       "    <tr>\n",
       "      <th>9911</th>\n",
       "      <td>6</td>\n",
       "      <td>19.183941</td>\n",
       "      <td>2015</td>\n",
       "      <td>4</td>\n",
       "      <td>19</td>\n",
       "      <td>6</td>\n",
       "      <td>20</td>\n",
       "      <td>279.390660</td>\n",
       "    </tr>\n",
       "    <tr>\n",
       "      <th>9912</th>\n",
       "      <td>6</td>\n",
       "      <td>8.343486</td>\n",
       "      <td>2015</td>\n",
       "      <td>1</td>\n",
       "      <td>31</td>\n",
       "      <td>5</td>\n",
       "      <td>1</td>\n",
       "      <td>269.625742</td>\n",
       "    </tr>\n",
       "    <tr>\n",
       "      <th>9913</th>\n",
       "      <td>6</td>\n",
       "      <td>1.180825</td>\n",
       "      <td>2015</td>\n",
       "      <td>1</td>\n",
       "      <td>18</td>\n",
       "      <td>6</td>\n",
       "      <td>14</td>\n",
       "      <td>263.595181</td>\n",
       "    </tr>\n",
       "  </tbody>\n",
       "</table>\n",
       "<p>9914 rows × 8 columns</p>\n",
       "</div>"
      ],
      "text/plain": [
       "      passenger_count  H_Distance  Year  Month  Date  Day of Week  Hour  \\\n",
       "0                   1    2.323260  2015      1    27            1    13   \n",
       "1                   1    2.425353  2015      1    27            1    13   \n",
       "2                   1    0.618628  2011     10     8            5    11   \n",
       "3                   1    1.961033  2012     12     1            5    21   \n",
       "4                   1    5.387301  2012     12     1            5    21   \n",
       "...               ...         ...   ...    ...   ...          ...   ...   \n",
       "9909                6    2.124874  2015      5    10            6    12   \n",
       "9910                6    3.270969  2015      1    12            0    17   \n",
       "9911                6   19.183941  2015      4    19            6    20   \n",
       "9912                6    8.343486  2015      1    31            5     1   \n",
       "9913                6    1.180825  2015      1    18            6    14   \n",
       "\n",
       "      Predicted_Fare  \n",
       "0         264.606998  \n",
       "1         264.695463  \n",
       "2         262.856588  \n",
       "3         264.367367  \n",
       "4         267.336236  \n",
       "...              ...  \n",
       "9909      264.529111  \n",
       "9910      265.523987  \n",
       "9911      279.390660  \n",
       "9912      269.625742  \n",
       "9913      263.595181  \n",
       "\n",
       "[9914 rows x 8 columns]"
      ]
     },
     "execution_count": 260,
     "metadata": {},
     "output_type": "execute_result"
    }
   ],
   "source": [
    "final=pd.concat([test,z],axis=1)\n",
    "final"
   ]
  }
 ],
 "metadata": {
  "kernelspec": {
   "display_name": "Python 3.10.2 64-bit",
   "language": "python",
   "name": "python3"
  },
  "language_info": {
   "codemirror_mode": {
    "name": "ipython",
    "version": 3
   },
   "file_extension": ".py",
   "mimetype": "text/x-python",
   "name": "python",
   "nbconvert_exporter": "python",
   "pygments_lexer": "ipython3",
   "version": "3.10.2"
  },
  "orig_nbformat": 4,
  "vscode": {
   "interpreter": {
    "hash": "b629c3126b5df0b3c19ac5f524890cb3a3a2e86c1a2f2c4b1c29287aa73e65d0"
   }
  }
 },
 "nbformat": 4,
 "nbformat_minor": 2
}
